{
  "nbformat": 4,
  "nbformat_minor": 0,
  "metadata": {
    "colab": {
      "provenance": []
    },
    "kernelspec": {
      "name": "python3",
      "display_name": "Python 3"
    },
    "language_info": {
      "name": "python"
    },
    "gpuClass": "premium"
  },
  "cells": [
    {
      "cell_type": "code",
      "source": [
        "# Connect to Google Drive\n",
        "from google.colab import drive\n",
        "drive.mount('/content/drive')"
      ],
      "metadata": {
        "colab": {
          "base_uri": "https://localhost:8080/"
        },
        "id": "matGOamtSU3t",
        "outputId": "67a6eb10-5e64-4866-8849-eaf8d681fd6a"
      },
      "execution_count": null,
      "outputs": [
        {
          "output_type": "stream",
          "name": "stdout",
          "text": [
            "Mounted at /content/drive\n"
          ]
        }
      ]
    },
    {
      "cell_type": "code",
      "source": [
        "%cd /content/drive/MyDrive/Hurricane_Harvey"
      ],
      "metadata": {
        "colab": {
          "base_uri": "https://localhost:8080/"
        },
        "id": "KLWtvOwiXBeL",
        "outputId": "e82d4b92-c2ea-4865-dcdc-e327982a91f4"
      },
      "execution_count": null,
      "outputs": [
        {
          "output_type": "stream",
          "name": "stdout",
          "text": [
            "/content/drive/MyDrive/Hurricane_Harvey\n"
          ]
        }
      ]
    },
    {
      "cell_type": "code",
      "execution_count": null,
      "metadata": {
        "colab": {
          "base_uri": "https://localhost:8080/"
        },
        "id": "fzXvnudGvKNu",
        "outputId": "7c4e9877-35ea-4399-bbfe-5cffb955ca89"
      },
      "outputs": [
        {
          "output_type": "stream",
          "name": "stdout",
          "text": [
            "initialize network with normal type\n",
            "Load weights /content/drive/MyDrive/Hurricane_Harvey/model_data/deeplab_mobilenetv2.pth.\n",
            "\n",
            "Successful Load Key: ['backbone.features.0.0.weight', 'backbone.features.0.1.weight', 'backbone.features.0.1.bias', 'backbone.features.0.1.running_mean', 'backbone.features.0.1.running_var', 'backbone.features.0.1.num_batches_tracked', 'backbone.features.1.conv.0.weight', 'backbone.features.1.conv.1.weight', 'backbone.features.1.conv.1.bias', 'backbone.features.1.conv.1.running_mean', 'backbone.features.1.conv.1.running_var', 'backbone.features.1.conv.1.num_batches_tracked', 'backbone.features.1.conv.3.weight', 'bac ……\n",
            "Successful Load Key Num: 369\n",
            "\n",
            "Fail To Load Key: ['cls_conv.weight', 'cls_conv.bias'] ……\n",
            "Fail To Load Key num: 2\n",
            "\n",
            "\u001b[1;33;44m温馨提示，head部分没有载入是正常现象，Backbone部分没有载入是错误的。\u001b[0m\n",
            "Configurations:\n",
            "----------------------------------------------------------------------\n",
            "|                     keys |                                   values|\n",
            "----------------------------------------------------------------------\n",
            "|              num_classes |                                       27|\n",
            "|                 backbone |                                mobilenet|\n",
            "|               model_path | /content/drive/MyDrive/Hurricane_Harvey/model_data/deeplab_mobilenetv2.pth|\n",
            "|              input_shape |                               [512, 512]|\n",
            "|               Init_Epoch |                                        0|\n",
            "|             Freeze_Epoch |                                       50|\n",
            "|           UnFreeze_Epoch |                                      100|\n",
            "|        Freeze_batch_size |                                        8|\n",
            "|      Unfreeze_batch_size |                                        4|\n",
            "|             Freeze_Train |                                     True|\n",
            "|                  Init_lr |                                    0.007|\n",
            "|                   Min_lr |                    7.000000000000001e-05|\n",
            "|           optimizer_type |                                      sgd|\n",
            "|                 momentum |                                      0.9|\n",
            "|            lr_decay_type |                                      cos|\n",
            "|              save_period |                                        5|\n",
            "|                 save_dir |                                     logs|\n",
            "|              num_workers |                                        4|\n",
            "|                num_train |                                     2421|\n",
            "|                  num_val |                                      270|\n",
            "----------------------------------------------------------------------\n",
            "Start Train\n"
          ]
        },
        {
          "output_type": "stream",
          "name": "stderr",
          "text": [
            "Epoch 1/100: 100%|██████████| 302/302 [03:43<00:00,  1.35it/s, f_score=0.36, lr=0.00035, total_loss=2.06]\n"
          ]
        },
        {
          "output_type": "stream",
          "name": "stdout",
          "text": [
            "Finish Train\n",
            "Start Validation\n"
          ]
        },
        {
          "output_type": "stream",
          "name": "stderr",
          "text": [
            "Epoch 1/100: 100%|██████████| 33/33 [00:25<00:00,  1.32it/s, f_score=0.316, lr=0.00035, val_loss=2.17]\n"
          ]
        },
        {
          "output_type": "stream",
          "name": "stdout",
          "text": [
            "Finish Validation\n",
            "Epoch:1/100\n",
            "Total Loss: 2.057 || Val Loss: 2.167 \n",
            "Save best model to best_epoch_weights.pth\n",
            "Start Train\n"
          ]
        },
        {
          "output_type": "stream",
          "name": "stderr",
          "text": [
            "Epoch 2/100: 100%|██████████| 302/302 [01:00<00:00,  5.02it/s, f_score=0.381, lr=0.0007, total_loss=1.4]\n"
          ]
        },
        {
          "output_type": "stream",
          "name": "stdout",
          "text": [
            "Finish Train\n",
            "Start Validation\n"
          ]
        },
        {
          "output_type": "stream",
          "name": "stderr",
          "text": [
            "Epoch 2/100: 100%|██████████| 33/33 [00:05<00:00,  5.64it/s, f_score=0.347, lr=0.0007, val_loss=1.59]\n"
          ]
        },
        {
          "output_type": "stream",
          "name": "stdout",
          "text": [
            "Finish Validation\n",
            "Epoch:2/100\n",
            "Total Loss: 1.399 || Val Loss: 1.595 \n",
            "Save best model to best_epoch_weights.pth\n",
            "Start Train\n"
          ]
        },
        {
          "output_type": "stream",
          "name": "stderr",
          "text": [
            "Epoch 3/100: 100%|██████████| 302/302 [01:00<00:00,  5.01it/s, f_score=0.435, lr=0.00175, total_loss=1.01]\n"
          ]
        },
        {
          "output_type": "stream",
          "name": "stdout",
          "text": [
            "Finish Train\n",
            "Start Validation\n"
          ]
        },
        {
          "output_type": "stream",
          "name": "stderr",
          "text": [
            "Epoch 3/100: 100%|██████████| 33/33 [00:05<00:00,  5.84it/s, f_score=0.411, lr=0.00175, val_loss=1.2]\n"
          ]
        },
        {
          "output_type": "stream",
          "name": "stdout",
          "text": [
            "Finish Validation\n",
            "Epoch:3/100\n",
            "Total Loss: 1.008 || Val Loss: 1.204 \n",
            "Save best model to best_epoch_weights.pth\n",
            "Start Train\n"
          ]
        },
        {
          "output_type": "stream",
          "name": "stderr",
          "text": [
            "Epoch 4/100: 100%|██████████| 302/302 [01:00<00:00,  5.01it/s, f_score=0.47, lr=0.0035, total_loss=0.882]\n"
          ]
        },
        {
          "output_type": "stream",
          "name": "stdout",
          "text": [
            "Finish Train\n",
            "Start Validation\n"
          ]
        },
        {
          "output_type": "stream",
          "name": "stderr",
          "text": [
            "Epoch 4/100: 100%|██████████| 33/33 [00:05<00:00,  5.82it/s, f_score=0.451, lr=0.0035, val_loss=1.04]\n"
          ]
        },
        {
          "output_type": "stream",
          "name": "stdout",
          "text": [
            "Finish Validation\n",
            "Epoch:4/100\n",
            "Total Loss: 0.882 || Val Loss: 1.043 \n",
            "Save best model to best_epoch_weights.pth\n",
            "Start Train\n"
          ]
        },
        {
          "output_type": "stream",
          "name": "stderr",
          "text": [
            "Epoch 5/100: 100%|██████████| 302/302 [01:00<00:00,  5.02it/s, f_score=0.495, lr=0.0035, total_loss=0.784]\n"
          ]
        },
        {
          "output_type": "stream",
          "name": "stdout",
          "text": [
            "Finish Train\n",
            "Start Validation\n"
          ]
        },
        {
          "output_type": "stream",
          "name": "stderr",
          "text": [
            "Epoch 5/100: 100%|██████████| 33/33 [00:05<00:00,  5.88it/s, f_score=0.442, lr=0.0035, val_loss=1.04]\n"
          ]
        },
        {
          "output_type": "stream",
          "name": "stdout",
          "text": [
            "Finish Validation\n",
            "Get miou.\n"
          ]
        },
        {
          "output_type": "stream",
          "name": "stderr",
          "text": [
            "100%|██████████| 270/270 [00:14<00:00, 18.50it/s]\n"
          ]
        },
        {
          "output_type": "stream",
          "name": "stdout",
          "text": [
            "Calculate miou.\n",
            "Num classes 27\n",
            "===> mIoU: 14.08; mPA: 19.23; Accuracy: 66.43\n",
            "Get miou done.\n",
            "Epoch:5/100\n",
            "Total Loss: 0.784 || Val Loss: 1.035 \n",
            "Save best model to best_epoch_weights.pth\n",
            "Start Train\n"
          ]
        },
        {
          "output_type": "stream",
          "name": "stderr",
          "text": [
            "Epoch 6/100: 100%|██████████| 302/302 [01:00<00:00,  4.99it/s, f_score=0.499, lr=0.00349, total_loss=0.75]\n"
          ]
        },
        {
          "output_type": "stream",
          "name": "stdout",
          "text": [
            "Finish Train\n",
            "Start Validation\n"
          ]
        },
        {
          "output_type": "stream",
          "name": "stderr",
          "text": [
            "Epoch 6/100: 100%|██████████| 33/33 [00:05<00:00,  5.80it/s, f_score=0.462, lr=0.00349, val_loss=0.977]\n"
          ]
        },
        {
          "output_type": "stream",
          "name": "stdout",
          "text": [
            "Finish Validation\n",
            "Epoch:6/100\n",
            "Total Loss: 0.750 || Val Loss: 0.977 \n",
            "Save best model to best_epoch_weights.pth\n",
            "Start Train\n"
          ]
        },
        {
          "output_type": "stream",
          "name": "stderr",
          "text": [
            "Epoch 7/100: 100%|██████████| 302/302 [01:00<00:00,  5.02it/s, f_score=0.504, lr=0.00349, total_loss=0.712]\n"
          ]
        },
        {
          "output_type": "stream",
          "name": "stdout",
          "text": [
            "Finish Train\n",
            "Start Validation\n"
          ]
        },
        {
          "output_type": "stream",
          "name": "stderr",
          "text": [
            "Epoch 7/100: 100%|██████████| 33/33 [00:05<00:00,  5.78it/s, f_score=0.473, lr=0.00349, val_loss=0.901]\n"
          ]
        },
        {
          "output_type": "stream",
          "name": "stdout",
          "text": [
            "Finish Validation\n",
            "Epoch:7/100\n",
            "Total Loss: 0.712 || Val Loss: 0.901 \n",
            "Save best model to best_epoch_weights.pth\n",
            "Start Train\n"
          ]
        },
        {
          "output_type": "stream",
          "name": "stderr",
          "text": [
            "Epoch 8/100: 100%|██████████| 302/302 [01:00<00:00,  5.01it/s, f_score=0.509, lr=0.00348, total_loss=0.687]\n"
          ]
        },
        {
          "output_type": "stream",
          "name": "stdout",
          "text": [
            "Finish Train\n",
            "Start Validation\n"
          ]
        },
        {
          "output_type": "stream",
          "name": "stderr",
          "text": [
            "Epoch 8/100: 100%|██████████| 33/33 [00:05<00:00,  5.87it/s, f_score=0.476, lr=0.00348, val_loss=0.9]\n"
          ]
        },
        {
          "output_type": "stream",
          "name": "stdout",
          "text": [
            "Finish Validation\n",
            "Epoch:8/100\n",
            "Total Loss: 0.687 || Val Loss: 0.900 \n",
            "Save best model to best_epoch_weights.pth\n",
            "Start Train\n"
          ]
        },
        {
          "output_type": "stream",
          "name": "stderr",
          "text": [
            "Epoch 9/100: 100%|██████████| 302/302 [01:00<00:00,  5.02it/s, f_score=0.508, lr=0.00347, total_loss=0.663]\n"
          ]
        },
        {
          "output_type": "stream",
          "name": "stdout",
          "text": [
            "Finish Train\n",
            "Start Validation\n"
          ]
        },
        {
          "output_type": "stream",
          "name": "stderr",
          "text": [
            "Epoch 9/100: 100%|██████████| 33/33 [00:05<00:00,  5.86it/s, f_score=0.471, lr=0.00347, val_loss=0.893]\n"
          ]
        },
        {
          "output_type": "stream",
          "name": "stdout",
          "text": [
            "Finish Validation\n",
            "Epoch:9/100\n",
            "Total Loss: 0.663 || Val Loss: 0.893 \n",
            "Save best model to best_epoch_weights.pth\n",
            "Start Train\n"
          ]
        },
        {
          "output_type": "stream",
          "name": "stderr",
          "text": [
            "Epoch 10/100: 100%|██████████| 302/302 [01:00<00:00,  5.00it/s, f_score=0.507, lr=0.00345, total_loss=0.662]\n"
          ]
        },
        {
          "output_type": "stream",
          "name": "stdout",
          "text": [
            "Finish Train\n",
            "Start Validation\n"
          ]
        },
        {
          "output_type": "stream",
          "name": "stderr",
          "text": [
            "Epoch 10/100: 100%|██████████| 33/33 [00:05<00:00,  5.82it/s, f_score=0.479, lr=0.00345, val_loss=0.827]\n"
          ]
        },
        {
          "output_type": "stream",
          "name": "stdout",
          "text": [
            "Finish Validation\n",
            "Get miou.\n"
          ]
        },
        {
          "output_type": "stream",
          "name": "stderr",
          "text": [
            "100%|██████████| 270/270 [00:13<00:00, 19.88it/s]\n"
          ]
        },
        {
          "output_type": "stream",
          "name": "stdout",
          "text": [
            "Calculate miou.\n",
            "Num classes 27\n",
            "===> mIoU: 19.35; mPA: 24.99; Accuracy: 72.31\n",
            "Get miou done.\n",
            "Epoch:10/100\n",
            "Total Loss: 0.662 || Val Loss: 0.827 \n",
            "Save best model to best_epoch_weights.pth\n",
            "Start Train\n"
          ]
        },
        {
          "output_type": "stream",
          "name": "stderr",
          "text": [
            "Epoch 11/100: 100%|██████████| 302/302 [01:00<00:00,  4.99it/s, f_score=0.515, lr=0.00344, total_loss=0.642]\n"
          ]
        },
        {
          "output_type": "stream",
          "name": "stdout",
          "text": [
            "Finish Train\n",
            "Start Validation\n"
          ]
        },
        {
          "output_type": "stream",
          "name": "stderr",
          "text": [
            "Epoch 11/100: 100%|██████████| 33/33 [00:05<00:00,  5.76it/s, f_score=0.484, lr=0.00344, val_loss=0.835]\n"
          ]
        },
        {
          "output_type": "stream",
          "name": "stdout",
          "text": [
            "Finish Validation\n",
            "Epoch:11/100\n",
            "Total Loss: 0.642 || Val Loss: 0.835 \n",
            "Start Train\n"
          ]
        },
        {
          "output_type": "stream",
          "name": "stderr",
          "text": [
            "Epoch 12/100: 100%|██████████| 302/302 [01:00<00:00,  4.99it/s, f_score=0.522, lr=0.00342, total_loss=0.632]\n"
          ]
        },
        {
          "output_type": "stream",
          "name": "stdout",
          "text": [
            "Finish Train\n",
            "Start Validation\n"
          ]
        },
        {
          "output_type": "stream",
          "name": "stderr",
          "text": [
            "Epoch 12/100: 100%|██████████| 33/33 [00:05<00:00,  5.92it/s, f_score=0.483, lr=0.00342, val_loss=0.848]\n"
          ]
        },
        {
          "output_type": "stream",
          "name": "stdout",
          "text": [
            "Finish Validation\n",
            "Epoch:12/100\n",
            "Total Loss: 0.632 || Val Loss: 0.848 \n",
            "Start Train\n"
          ]
        },
        {
          "output_type": "stream",
          "name": "stderr",
          "text": [
            "Epoch 13/100: 100%|██████████| 302/302 [01:00<00:00,  5.03it/s, f_score=0.517, lr=0.0034, total_loss=0.63]\n"
          ]
        },
        {
          "output_type": "stream",
          "name": "stdout",
          "text": [
            "Finish Train\n",
            "Start Validation\n"
          ]
        },
        {
          "output_type": "stream",
          "name": "stderr",
          "text": [
            "Epoch 13/100: 100%|██████████| 33/33 [00:05<00:00,  5.93it/s, f_score=0.486, lr=0.0034, val_loss=0.835]\n"
          ]
        },
        {
          "output_type": "stream",
          "name": "stdout",
          "text": [
            "Finish Validation\n",
            "Epoch:13/100\n",
            "Total Loss: 0.630 || Val Loss: 0.835 \n",
            "Start Train\n"
          ]
        },
        {
          "output_type": "stream",
          "name": "stderr",
          "text": [
            "Epoch 14/100: 100%|██████████| 302/302 [01:00<00:00,  5.02it/s, f_score=0.525, lr=0.00337, total_loss=0.609]\n"
          ]
        },
        {
          "output_type": "stream",
          "name": "stdout",
          "text": [
            "Finish Train\n",
            "Start Validation\n"
          ]
        },
        {
          "output_type": "stream",
          "name": "stderr",
          "text": [
            "Epoch 14/100: 100%|██████████| 33/33 [00:05<00:00,  5.76it/s, f_score=0.505, lr=0.00337, val_loss=0.823]\n"
          ]
        },
        {
          "output_type": "stream",
          "name": "stdout",
          "text": [
            "Finish Validation\n",
            "Epoch:14/100\n",
            "Total Loss: 0.609 || Val Loss: 0.823 \n",
            "Save best model to best_epoch_weights.pth\n",
            "Start Train\n"
          ]
        },
        {
          "output_type": "stream",
          "name": "stderr",
          "text": [
            "Epoch 15/100: 100%|██████████| 302/302 [01:00<00:00,  4.98it/s, f_score=0.525, lr=0.00335, total_loss=0.607]\n"
          ]
        },
        {
          "output_type": "stream",
          "name": "stdout",
          "text": [
            "Finish Train\n",
            "Start Validation\n"
          ]
        },
        {
          "output_type": "stream",
          "name": "stderr",
          "text": [
            "Epoch 15/100: 100%|██████████| 33/33 [00:05<00:00,  5.97it/s, f_score=0.502, lr=0.00335, val_loss=0.79]\n"
          ]
        },
        {
          "output_type": "stream",
          "name": "stdout",
          "text": [
            "Finish Validation\n",
            "Get miou.\n"
          ]
        },
        {
          "output_type": "stream",
          "name": "stderr",
          "text": [
            "100%|██████████| 270/270 [00:13<00:00, 19.73it/s]\n"
          ]
        },
        {
          "output_type": "stream",
          "name": "stdout",
          "text": [
            "Calculate miou.\n",
            "Num classes 27\n",
            "===> mIoU: 20.27; mPA: 26.56; Accuracy: 73.48\n",
            "Get miou done.\n",
            "Epoch:15/100\n",
            "Total Loss: 0.607 || Val Loss: 0.790 \n",
            "Save best model to best_epoch_weights.pth\n",
            "Start Train\n"
          ]
        },
        {
          "output_type": "stream",
          "name": "stderr",
          "text": [
            "Epoch 16/100: 100%|██████████| 302/302 [01:00<00:00,  5.01it/s, f_score=0.532, lr=0.00332, total_loss=0.586]\n"
          ]
        },
        {
          "output_type": "stream",
          "name": "stdout",
          "text": [
            "Finish Train\n",
            "Start Validation\n"
          ]
        },
        {
          "output_type": "stream",
          "name": "stderr",
          "text": [
            "Epoch 16/100: 100%|██████████| 33/33 [00:05<00:00,  5.81it/s, f_score=0.512, lr=0.00332, val_loss=0.788]\n"
          ]
        },
        {
          "output_type": "stream",
          "name": "stdout",
          "text": [
            "Finish Validation\n",
            "Epoch:16/100\n",
            "Total Loss: 0.586 || Val Loss: 0.788 \n",
            "Save best model to best_epoch_weights.pth\n",
            "Start Train\n"
          ]
        },
        {
          "output_type": "stream",
          "name": "stderr",
          "text": [
            "Epoch 17/100: 100%|██████████| 302/302 [01:00<00:00,  4.98it/s, f_score=0.53, lr=0.00329, total_loss=0.594]\n"
          ]
        },
        {
          "output_type": "stream",
          "name": "stdout",
          "text": [
            "Finish Train\n",
            "Start Validation\n"
          ]
        },
        {
          "output_type": "stream",
          "name": "stderr",
          "text": [
            "Epoch 17/100: 100%|██████████| 33/33 [00:05<00:00,  5.79it/s, f_score=0.511, lr=0.00329, val_loss=0.772]\n"
          ]
        },
        {
          "output_type": "stream",
          "name": "stdout",
          "text": [
            "Finish Validation\n",
            "Epoch:17/100\n",
            "Total Loss: 0.594 || Val Loss: 0.772 \n",
            "Save best model to best_epoch_weights.pth\n",
            "Start Train\n"
          ]
        },
        {
          "output_type": "stream",
          "name": "stderr",
          "text": [
            "Epoch 18/100: 100%|██████████| 302/302 [01:00<00:00,  5.00it/s, f_score=0.536, lr=0.00326, total_loss=0.573]\n"
          ]
        },
        {
          "output_type": "stream",
          "name": "stdout",
          "text": [
            "Finish Train\n",
            "Start Validation\n"
          ]
        },
        {
          "output_type": "stream",
          "name": "stderr",
          "text": [
            "Epoch 18/100: 100%|██████████| 33/33 [00:05<00:00,  5.75it/s, f_score=0.503, lr=0.00326, val_loss=0.779]\n"
          ]
        },
        {
          "output_type": "stream",
          "name": "stdout",
          "text": [
            "Finish Validation\n",
            "Epoch:18/100\n",
            "Total Loss: 0.573 || Val Loss: 0.779 \n",
            "Start Train\n"
          ]
        },
        {
          "output_type": "stream",
          "name": "stderr",
          "text": [
            "Epoch 19/100: 100%|██████████| 302/302 [01:00<00:00,  4.98it/s, f_score=0.533, lr=0.00322, total_loss=0.562]\n"
          ]
        },
        {
          "output_type": "stream",
          "name": "stdout",
          "text": [
            "Finish Train\n",
            "Start Validation\n"
          ]
        },
        {
          "output_type": "stream",
          "name": "stderr",
          "text": [
            "Epoch 19/100: 100%|██████████| 33/33 [00:05<00:00,  5.98it/s, f_score=0.51, lr=0.00322, val_loss=0.753]\n"
          ]
        },
        {
          "output_type": "stream",
          "name": "stdout",
          "text": [
            "Finish Validation\n",
            "Epoch:19/100\n",
            "Total Loss: 0.562 || Val Loss: 0.753 \n",
            "Save best model to best_epoch_weights.pth\n",
            "Start Train\n"
          ]
        },
        {
          "output_type": "stream",
          "name": "stderr",
          "text": [
            "Epoch 20/100: 100%|██████████| 302/302 [01:00<00:00,  5.00it/s, f_score=0.541, lr=0.00318, total_loss=0.554]\n"
          ]
        },
        {
          "output_type": "stream",
          "name": "stdout",
          "text": [
            "Finish Train\n",
            "Start Validation\n"
          ]
        },
        {
          "output_type": "stream",
          "name": "stderr",
          "text": [
            "Epoch 20/100: 100%|██████████| 33/33 [00:05<00:00,  5.83it/s, f_score=0.511, lr=0.00318, val_loss=0.776]\n"
          ]
        },
        {
          "output_type": "stream",
          "name": "stdout",
          "text": [
            "Finish Validation\n",
            "Get miou.\n"
          ]
        },
        {
          "output_type": "stream",
          "name": "stderr",
          "text": [
            "100%|██████████| 270/270 [00:13<00:00, 20.05it/s]\n"
          ]
        },
        {
          "output_type": "stream",
          "name": "stdout",
          "text": [
            "Calculate miou.\n",
            "Num classes 27\n",
            "===> mIoU: 21.3; mPA: 27.84; Accuracy: 73.92\n",
            "Get miou done.\n",
            "Epoch:20/100\n",
            "Total Loss: 0.554 || Val Loss: 0.776 \n",
            "Start Train\n"
          ]
        },
        {
          "output_type": "stream",
          "name": "stderr",
          "text": [
            "Epoch 21/100: 100%|██████████| 302/302 [01:00<00:00,  5.00it/s, f_score=0.542, lr=0.00315, total_loss=0.557]\n"
          ]
        },
        {
          "output_type": "stream",
          "name": "stdout",
          "text": [
            "Finish Train\n",
            "Start Validation\n"
          ]
        },
        {
          "output_type": "stream",
          "name": "stderr",
          "text": [
            "Epoch 21/100: 100%|██████████| 33/33 [00:05<00:00,  5.74it/s, f_score=0.511, lr=0.00315, val_loss=0.785]\n"
          ]
        },
        {
          "output_type": "stream",
          "name": "stdout",
          "text": [
            "Finish Validation\n",
            "Epoch:21/100\n",
            "Total Loss: 0.557 || Val Loss: 0.785 \n",
            "Start Train\n"
          ]
        },
        {
          "output_type": "stream",
          "name": "stderr",
          "text": [
            "Epoch 22/100: 100%|██████████| 302/302 [01:00<00:00,  5.00it/s, f_score=0.543, lr=0.0031, total_loss=0.561]\n"
          ]
        },
        {
          "output_type": "stream",
          "name": "stdout",
          "text": [
            "Finish Train\n",
            "Start Validation\n"
          ]
        },
        {
          "output_type": "stream",
          "name": "stderr",
          "text": [
            "Epoch 22/100: 100%|██████████| 33/33 [00:05<00:00,  5.92it/s, f_score=0.523, lr=0.0031, val_loss=0.759]\n"
          ]
        },
        {
          "output_type": "stream",
          "name": "stdout",
          "text": [
            "Finish Validation\n",
            "Epoch:22/100\n",
            "Total Loss: 0.561 || Val Loss: 0.759 \n",
            "Start Train\n"
          ]
        },
        {
          "output_type": "stream",
          "name": "stderr",
          "text": [
            "Epoch 23/100: 100%|██████████| 302/302 [01:00<00:00,  5.00it/s, f_score=0.546, lr=0.00306, total_loss=0.562]\n"
          ]
        },
        {
          "output_type": "stream",
          "name": "stdout",
          "text": [
            "Finish Train\n",
            "Start Validation\n"
          ]
        },
        {
          "output_type": "stream",
          "name": "stderr",
          "text": [
            "Epoch 23/100: 100%|██████████| 33/33 [00:05<00:00,  5.88it/s, f_score=0.516, lr=0.00306, val_loss=0.749]\n"
          ]
        },
        {
          "output_type": "stream",
          "name": "stdout",
          "text": [
            "Finish Validation\n",
            "Epoch:23/100\n",
            "Total Loss: 0.562 || Val Loss: 0.749 \n",
            "Save best model to best_epoch_weights.pth\n",
            "Start Train\n"
          ]
        },
        {
          "output_type": "stream",
          "name": "stderr",
          "text": [
            "Epoch 24/100: 100%|██████████| 302/302 [01:00<00:00,  4.99it/s, f_score=0.543, lr=0.00302, total_loss=0.541]\n"
          ]
        },
        {
          "output_type": "stream",
          "name": "stdout",
          "text": [
            "Finish Train\n",
            "Start Validation\n"
          ]
        },
        {
          "output_type": "stream",
          "name": "stderr",
          "text": [
            "Epoch 24/100: 100%|██████████| 33/33 [00:05<00:00,  5.88it/s, f_score=0.528, lr=0.00302, val_loss=0.726]\n"
          ]
        },
        {
          "output_type": "stream",
          "name": "stdout",
          "text": [
            "Finish Validation\n",
            "Epoch:24/100\n",
            "Total Loss: 0.541 || Val Loss: 0.726 \n",
            "Save best model to best_epoch_weights.pth\n",
            "Start Train\n"
          ]
        },
        {
          "output_type": "stream",
          "name": "stderr",
          "text": [
            "Epoch 25/100: 100%|██████████| 302/302 [01:00<00:00,  5.00it/s, f_score=0.548, lr=0.00297, total_loss=0.518]\n"
          ]
        },
        {
          "output_type": "stream",
          "name": "stdout",
          "text": [
            "Finish Train\n",
            "Start Validation\n"
          ]
        },
        {
          "output_type": "stream",
          "name": "stderr",
          "text": [
            "Epoch 25/100: 100%|██████████| 33/33 [00:05<00:00,  5.74it/s, f_score=0.528, lr=0.00297, val_loss=0.751]\n"
          ]
        },
        {
          "output_type": "stream",
          "name": "stdout",
          "text": [
            "Finish Validation\n",
            "Get miou.\n"
          ]
        },
        {
          "output_type": "stream",
          "name": "stderr",
          "text": [
            "100%|██████████| 270/270 [00:13<00:00, 19.42it/s]\n"
          ]
        },
        {
          "output_type": "stream",
          "name": "stdout",
          "text": [
            "Calculate miou.\n",
            "Num classes 27\n",
            "===> mIoU: 22.04; mPA: 28.73; Accuracy: 74.45\n",
            "Get miou done.\n",
            "Epoch:25/100\n",
            "Total Loss: 0.518 || Val Loss: 0.751 \n",
            "Start Train\n"
          ]
        },
        {
          "output_type": "stream",
          "name": "stderr",
          "text": [
            "Epoch 26/100: 100%|██████████| 302/302 [01:00<00:00,  4.99it/s, f_score=0.551, lr=0.00292, total_loss=0.525]\n"
          ]
        },
        {
          "output_type": "stream",
          "name": "stdout",
          "text": [
            "Finish Train\n",
            "Start Validation\n"
          ]
        },
        {
          "output_type": "stream",
          "name": "stderr",
          "text": [
            "Epoch 26/100: 100%|██████████| 33/33 [00:05<00:00,  5.82it/s, f_score=0.53, lr=0.00292, val_loss=0.725]\n"
          ]
        },
        {
          "output_type": "stream",
          "name": "stdout",
          "text": [
            "Finish Validation\n",
            "Epoch:26/100\n",
            "Total Loss: 0.525 || Val Loss: 0.725 \n",
            "Save best model to best_epoch_weights.pth\n",
            "Start Train\n"
          ]
        },
        {
          "output_type": "stream",
          "name": "stderr",
          "text": [
            "Epoch 27/100: 100%|██████████| 302/302 [01:00<00:00,  5.01it/s, f_score=0.554, lr=0.00287, total_loss=0.522]\n"
          ]
        },
        {
          "output_type": "stream",
          "name": "stdout",
          "text": [
            "Finish Train\n",
            "Start Validation\n"
          ]
        },
        {
          "output_type": "stream",
          "name": "stderr",
          "text": [
            "Epoch 27/100: 100%|██████████| 33/33 [00:05<00:00,  5.75it/s, f_score=0.532, lr=0.00287, val_loss=0.722]\n"
          ]
        },
        {
          "output_type": "stream",
          "name": "stdout",
          "text": [
            "Finish Validation\n",
            "Epoch:27/100\n",
            "Total Loss: 0.522 || Val Loss: 0.722 \n",
            "Save best model to best_epoch_weights.pth\n",
            "Start Train\n"
          ]
        },
        {
          "output_type": "stream",
          "name": "stderr",
          "text": [
            "Epoch 28/100: 100%|██████████| 302/302 [01:00<00:00,  5.01it/s, f_score=0.552, lr=0.00282, total_loss=0.522]\n"
          ]
        },
        {
          "output_type": "stream",
          "name": "stdout",
          "text": [
            "Finish Train\n",
            "Start Validation\n"
          ]
        },
        {
          "output_type": "stream",
          "name": "stderr",
          "text": [
            "Epoch 28/100: 100%|██████████| 33/33 [00:05<00:00,  5.87it/s, f_score=0.524, lr=0.00282, val_loss=0.732]\n"
          ]
        },
        {
          "output_type": "stream",
          "name": "stdout",
          "text": [
            "Finish Validation\n",
            "Epoch:28/100\n",
            "Total Loss: 0.522 || Val Loss: 0.732 \n",
            "Start Train\n"
          ]
        },
        {
          "output_type": "stream",
          "name": "stderr",
          "text": [
            "Epoch 29/100: 100%|██████████| 302/302 [01:00<00:00,  5.00it/s, f_score=0.551, lr=0.00276, total_loss=0.517]\n"
          ]
        },
        {
          "output_type": "stream",
          "name": "stdout",
          "text": [
            "Finish Train\n",
            "Start Validation\n"
          ]
        },
        {
          "output_type": "stream",
          "name": "stderr",
          "text": [
            "Epoch 29/100: 100%|██████████| 33/33 [00:05<00:00,  5.86it/s, f_score=0.534, lr=0.00276, val_loss=0.696]\n"
          ]
        },
        {
          "output_type": "stream",
          "name": "stdout",
          "text": [
            "Finish Validation\n",
            "Epoch:29/100\n",
            "Total Loss: 0.517 || Val Loss: 0.696 \n",
            "Save best model to best_epoch_weights.pth\n",
            "Start Train\n"
          ]
        },
        {
          "output_type": "stream",
          "name": "stderr",
          "text": [
            "Epoch 30/100: 100%|██████████| 302/302 [01:00<00:00,  5.03it/s, f_score=0.552, lr=0.00271, total_loss=0.519]\n"
          ]
        },
        {
          "output_type": "stream",
          "name": "stdout",
          "text": [
            "Finish Train\n",
            "Start Validation\n"
          ]
        },
        {
          "output_type": "stream",
          "name": "stderr",
          "text": [
            "Epoch 30/100: 100%|██████████| 33/33 [00:05<00:00,  5.78it/s, f_score=0.54, lr=0.00271, val_loss=0.706]\n"
          ]
        },
        {
          "output_type": "stream",
          "name": "stdout",
          "text": [
            "Finish Validation\n",
            "Get miou.\n"
          ]
        },
        {
          "output_type": "stream",
          "name": "stderr",
          "text": [
            "100%|██████████| 270/270 [00:13<00:00, 19.83it/s]\n"
          ]
        },
        {
          "output_type": "stream",
          "name": "stdout",
          "text": [
            "Calculate miou.\n",
            "Num classes 27\n",
            "===> mIoU: 23.73; mPA: 29.73; Accuracy: 75.52\n",
            "Get miou done.\n",
            "Epoch:30/100\n",
            "Total Loss: 0.519 || Val Loss: 0.706 \n",
            "Start Train\n"
          ]
        },
        {
          "output_type": "stream",
          "name": "stderr",
          "text": [
            "Epoch 31/100: 100%|██████████| 302/302 [01:00<00:00,  4.99it/s, f_score=0.552, lr=0.00265, total_loss=0.495]\n"
          ]
        },
        {
          "output_type": "stream",
          "name": "stdout",
          "text": [
            "Finish Train\n",
            "Start Validation\n"
          ]
        },
        {
          "output_type": "stream",
          "name": "stderr",
          "text": [
            "Epoch 31/100: 100%|██████████| 33/33 [00:05<00:00,  5.80it/s, f_score=0.537, lr=0.00265, val_loss=0.696]\n"
          ]
        },
        {
          "output_type": "stream",
          "name": "stdout",
          "text": [
            "Finish Validation\n",
            "Epoch:31/100\n",
            "Total Loss: 0.495 || Val Loss: 0.696 \n",
            "Start Train\n"
          ]
        },
        {
          "output_type": "stream",
          "name": "stderr",
          "text": [
            "Epoch 32/100: 100%|██████████| 302/302 [01:00<00:00,  5.00it/s, f_score=0.558, lr=0.0026, total_loss=0.505]\n"
          ]
        },
        {
          "output_type": "stream",
          "name": "stdout",
          "text": [
            "Finish Train\n",
            "Start Validation\n"
          ]
        },
        {
          "output_type": "stream",
          "name": "stderr",
          "text": [
            "Epoch 32/100: 100%|██████████| 33/33 [00:05<00:00,  5.88it/s, f_score=0.536, lr=0.0026, val_loss=0.701]\n"
          ]
        },
        {
          "output_type": "stream",
          "name": "stdout",
          "text": [
            "Finish Validation\n",
            "Epoch:32/100\n",
            "Total Loss: 0.505 || Val Loss: 0.701 \n",
            "Start Train\n"
          ]
        },
        {
          "output_type": "stream",
          "name": "stderr",
          "text": [
            "Epoch 33/100: 100%|██████████| 302/302 [01:00<00:00,  5.01it/s, f_score=0.558, lr=0.00254, total_loss=0.504]\n"
          ]
        },
        {
          "output_type": "stream",
          "name": "stdout",
          "text": [
            "Finish Train\n",
            "Start Validation\n"
          ]
        },
        {
          "output_type": "stream",
          "name": "stderr",
          "text": [
            "Epoch 33/100: 100%|██████████| 33/33 [00:05<00:00,  5.71it/s, f_score=0.533, lr=0.00254, val_loss=0.697]\n"
          ]
        },
        {
          "output_type": "stream",
          "name": "stdout",
          "text": [
            "Finish Validation\n",
            "Epoch:33/100\n",
            "Total Loss: 0.504 || Val Loss: 0.697 \n",
            "Start Train\n"
          ]
        },
        {
          "output_type": "stream",
          "name": "stderr",
          "text": [
            "Epoch 34/100: 100%|██████████| 302/302 [01:00<00:00,  5.00it/s, f_score=0.56, lr=0.00248, total_loss=0.517]\n"
          ]
        },
        {
          "output_type": "stream",
          "name": "stdout",
          "text": [
            "Finish Train\n",
            "Start Validation\n"
          ]
        },
        {
          "output_type": "stream",
          "name": "stderr",
          "text": [
            "Epoch 34/100: 100%|██████████| 33/33 [00:05<00:00,  5.75it/s, f_score=0.538, lr=0.00248, val_loss=0.7]\n"
          ]
        },
        {
          "output_type": "stream",
          "name": "stdout",
          "text": [
            "Finish Validation\n",
            "Epoch:34/100\n",
            "Total Loss: 0.517 || Val Loss: 0.700 \n",
            "Start Train\n"
          ]
        },
        {
          "output_type": "stream",
          "name": "stderr",
          "text": [
            "Epoch 35/100: 100%|██████████| 302/302 [01:00<00:00,  4.99it/s, f_score=0.559, lr=0.00242, total_loss=0.493]\n"
          ]
        },
        {
          "output_type": "stream",
          "name": "stdout",
          "text": [
            "Finish Train\n",
            "Start Validation\n"
          ]
        },
        {
          "output_type": "stream",
          "name": "stderr",
          "text": [
            "Epoch 35/100: 100%|██████████| 33/33 [00:05<00:00,  5.81it/s, f_score=0.535, lr=0.00242, val_loss=0.695]\n"
          ]
        },
        {
          "output_type": "stream",
          "name": "stdout",
          "text": [
            "Finish Validation\n",
            "Get miou.\n"
          ]
        },
        {
          "output_type": "stream",
          "name": "stderr",
          "text": [
            "100%|██████████| 270/270 [00:13<00:00, 19.73it/s]\n"
          ]
        },
        {
          "output_type": "stream",
          "name": "stdout",
          "text": [
            "Calculate miou.\n",
            "Num classes 27\n",
            "===> mIoU: 24.44; mPA: 30.98; Accuracy: 75.89\n",
            "Get miou done.\n",
            "Epoch:35/100\n",
            "Total Loss: 0.493 || Val Loss: 0.695 \n",
            "Save best model to best_epoch_weights.pth\n",
            "Start Train\n"
          ]
        },
        {
          "output_type": "stream",
          "name": "stderr",
          "text": [
            "Epoch 36/100: 100%|██████████| 302/302 [01:00<00:00,  4.99it/s, f_score=0.561, lr=0.00235, total_loss=0.488]\n"
          ]
        },
        {
          "output_type": "stream",
          "name": "stdout",
          "text": [
            "Finish Train\n",
            "Start Validation\n"
          ]
        },
        {
          "output_type": "stream",
          "name": "stderr",
          "text": [
            "Epoch 36/100: 100%|██████████| 33/33 [00:05<00:00,  5.86it/s, f_score=0.536, lr=0.00235, val_loss=0.688]\n"
          ]
        },
        {
          "output_type": "stream",
          "name": "stdout",
          "text": [
            "Finish Validation\n",
            "Epoch:36/100\n",
            "Total Loss: 0.488 || Val Loss: 0.688 \n",
            "Save best model to best_epoch_weights.pth\n",
            "Start Train\n"
          ]
        },
        {
          "output_type": "stream",
          "name": "stderr",
          "text": [
            "Epoch 37/100: 100%|██████████| 302/302 [01:00<00:00,  5.00it/s, f_score=0.561, lr=0.00229, total_loss=0.493]\n"
          ]
        },
        {
          "output_type": "stream",
          "name": "stdout",
          "text": [
            "Finish Train\n",
            "Start Validation\n"
          ]
        },
        {
          "output_type": "stream",
          "name": "stderr",
          "text": [
            "Epoch 37/100: 100%|██████████| 33/33 [00:05<00:00,  5.87it/s, f_score=0.541, lr=0.00229, val_loss=0.663]\n"
          ]
        },
        {
          "output_type": "stream",
          "name": "stdout",
          "text": [
            "Finish Validation\n",
            "Epoch:37/100\n",
            "Total Loss: 0.493 || Val Loss: 0.663 \n",
            "Save best model to best_epoch_weights.pth\n",
            "Start Train\n"
          ]
        },
        {
          "output_type": "stream",
          "name": "stderr",
          "text": [
            "Epoch 38/100: 100%|██████████| 302/302 [01:00<00:00,  5.00it/s, f_score=0.562, lr=0.00223, total_loss=0.49]\n"
          ]
        },
        {
          "output_type": "stream",
          "name": "stdout",
          "text": [
            "Finish Train\n",
            "Start Validation\n"
          ]
        },
        {
          "output_type": "stream",
          "name": "stderr",
          "text": [
            "Epoch 38/100: 100%|██████████| 33/33 [00:05<00:00,  5.89it/s, f_score=0.542, lr=0.00223, val_loss=0.688]\n"
          ]
        },
        {
          "output_type": "stream",
          "name": "stdout",
          "text": [
            "Finish Validation\n",
            "Epoch:38/100\n",
            "Total Loss: 0.490 || Val Loss: 0.688 \n",
            "Start Train\n"
          ]
        },
        {
          "output_type": "stream",
          "name": "stderr",
          "text": [
            "Epoch 39/100: 100%|██████████| 302/302 [01:00<00:00,  5.00it/s, f_score=0.566, lr=0.00216, total_loss=0.478]\n"
          ]
        },
        {
          "output_type": "stream",
          "name": "stdout",
          "text": [
            "Finish Train\n",
            "Start Validation\n"
          ]
        },
        {
          "output_type": "stream",
          "name": "stderr",
          "text": [
            "Epoch 39/100: 100%|██████████| 33/33 [00:05<00:00,  5.84it/s, f_score=0.549, lr=0.00216, val_loss=0.666]\n"
          ]
        },
        {
          "output_type": "stream",
          "name": "stdout",
          "text": [
            "Finish Validation\n",
            "Epoch:39/100\n",
            "Total Loss: 0.478 || Val Loss: 0.666 \n",
            "Start Train\n"
          ]
        },
        {
          "output_type": "stream",
          "name": "stderr",
          "text": [
            "Epoch 40/100: 100%|██████████| 302/302 [01:00<00:00,  4.99it/s, f_score=0.564, lr=0.0021, total_loss=0.479]\n"
          ]
        },
        {
          "output_type": "stream",
          "name": "stdout",
          "text": [
            "Finish Train\n",
            "Start Validation\n"
          ]
        },
        {
          "output_type": "stream",
          "name": "stderr",
          "text": [
            "Epoch 40/100: 100%|██████████| 33/33 [00:05<00:00,  5.93it/s, f_score=0.54, lr=0.0021, val_loss=0.645]\n"
          ]
        },
        {
          "output_type": "stream",
          "name": "stdout",
          "text": [
            "Finish Validation\n",
            "Get miou.\n"
          ]
        },
        {
          "output_type": "stream",
          "name": "stderr",
          "text": [
            "100%|██████████| 270/270 [00:13<00:00, 19.46it/s]\n"
          ]
        },
        {
          "output_type": "stream",
          "name": "stdout",
          "text": [
            "Calculate miou.\n",
            "Num classes 27\n",
            "===> mIoU: 26.03; mPA: 32.05; Accuracy: 77.72\n",
            "Get miou done.\n",
            "Epoch:40/100\n",
            "Total Loss: 0.479 || Val Loss: 0.645 \n",
            "Save best model to best_epoch_weights.pth\n",
            "Start Train\n"
          ]
        },
        {
          "output_type": "stream",
          "name": "stderr",
          "text": [
            "Epoch 41/100: 100%|██████████| 302/302 [01:00<00:00,  5.00it/s, f_score=0.568, lr=0.00203, total_loss=0.48]\n"
          ]
        },
        {
          "output_type": "stream",
          "name": "stdout",
          "text": [
            "Finish Train\n",
            "Start Validation\n"
          ]
        },
        {
          "output_type": "stream",
          "name": "stderr",
          "text": [
            "Epoch 41/100: 100%|██████████| 33/33 [00:05<00:00,  5.85it/s, f_score=0.545, lr=0.00203, val_loss=0.662]\n"
          ]
        },
        {
          "output_type": "stream",
          "name": "stdout",
          "text": [
            "Finish Validation\n",
            "Epoch:41/100\n",
            "Total Loss: 0.480 || Val Loss: 0.662 \n",
            "Start Train\n"
          ]
        },
        {
          "output_type": "stream",
          "name": "stderr",
          "text": [
            "Epoch 42/100: 100%|██████████| 302/302 [01:00<00:00,  4.97it/s, f_score=0.565, lr=0.00197, total_loss=0.475]\n"
          ]
        },
        {
          "output_type": "stream",
          "name": "stdout",
          "text": [
            "Finish Train\n",
            "Start Validation\n"
          ]
        },
        {
          "output_type": "stream",
          "name": "stderr",
          "text": [
            "Epoch 42/100: 100%|██████████| 33/33 [00:05<00:00,  5.70it/s, f_score=0.542, lr=0.00197, val_loss=0.661]\n"
          ]
        },
        {
          "output_type": "stream",
          "name": "stdout",
          "text": [
            "Finish Validation\n",
            "Epoch:42/100\n",
            "Total Loss: 0.475 || Val Loss: 0.661 \n",
            "Start Train\n"
          ]
        },
        {
          "output_type": "stream",
          "name": "stderr",
          "text": [
            "Epoch 43/100: 100%|██████████| 302/302 [01:00<00:00,  4.99it/s, f_score=0.567, lr=0.0019, total_loss=0.466]\n"
          ]
        },
        {
          "output_type": "stream",
          "name": "stdout",
          "text": [
            "Finish Train\n",
            "Start Validation\n"
          ]
        },
        {
          "output_type": "stream",
          "name": "stderr",
          "text": [
            "Epoch 43/100: 100%|██████████| 33/33 [00:05<00:00,  5.93it/s, f_score=0.542, lr=0.0019, val_loss=0.65]\n"
          ]
        },
        {
          "output_type": "stream",
          "name": "stdout",
          "text": [
            "Finish Validation\n",
            "Epoch:43/100\n",
            "Total Loss: 0.466 || Val Loss: 0.650 \n",
            "Start Train\n"
          ]
        },
        {
          "output_type": "stream",
          "name": "stderr",
          "text": [
            "Epoch 44/100: 100%|██████████| 302/302 [01:00<00:00,  5.02it/s, f_score=0.563, lr=0.00183, total_loss=0.479]\n"
          ]
        },
        {
          "output_type": "stream",
          "name": "stdout",
          "text": [
            "Finish Train\n",
            "Start Validation\n"
          ]
        },
        {
          "output_type": "stream",
          "name": "stderr",
          "text": [
            "Epoch 44/100: 100%|██████████| 33/33 [00:05<00:00,  5.71it/s, f_score=0.544, lr=0.00183, val_loss=0.643]\n"
          ]
        },
        {
          "output_type": "stream",
          "name": "stdout",
          "text": [
            "Finish Validation\n",
            "Epoch:44/100\n",
            "Total Loss: 0.479 || Val Loss: 0.643 \n",
            "Save best model to best_epoch_weights.pth\n",
            "Start Train\n"
          ]
        },
        {
          "output_type": "stream",
          "name": "stderr",
          "text": [
            "Epoch 45/100: 100%|██████████| 302/302 [01:00<00:00,  4.98it/s, f_score=0.57, lr=0.00177, total_loss=0.463]\n"
          ]
        },
        {
          "output_type": "stream",
          "name": "stdout",
          "text": [
            "Finish Train\n",
            "Start Validation\n"
          ]
        },
        {
          "output_type": "stream",
          "name": "stderr",
          "text": [
            "Epoch 45/100: 100%|██████████| 33/33 [00:05<00:00,  5.82it/s, f_score=0.544, lr=0.00177, val_loss=0.668]\n"
          ]
        },
        {
          "output_type": "stream",
          "name": "stdout",
          "text": [
            "Finish Validation\n",
            "Get miou.\n"
          ]
        },
        {
          "output_type": "stream",
          "name": "stderr",
          "text": [
            "100%|██████████| 270/270 [00:13<00:00, 19.46it/s]\n"
          ]
        },
        {
          "output_type": "stream",
          "name": "stdout",
          "text": [
            "Calculate miou.\n",
            "Num classes 27\n",
            "===> mIoU: 25.6; mPA: 32.77; Accuracy: 77.04\n",
            "Get miou done.\n",
            "Epoch:45/100\n",
            "Total Loss: 0.463 || Val Loss: 0.668 \n",
            "Start Train\n"
          ]
        },
        {
          "output_type": "stream",
          "name": "stderr",
          "text": [
            "Epoch 46/100: 100%|██████████| 302/302 [01:00<00:00,  4.98it/s, f_score=0.575, lr=0.0017, total_loss=0.454]\n"
          ]
        },
        {
          "output_type": "stream",
          "name": "stdout",
          "text": [
            "Finish Train\n",
            "Start Validation\n"
          ]
        },
        {
          "output_type": "stream",
          "name": "stderr",
          "text": [
            "Epoch 46/100: 100%|██████████| 33/33 [00:05<00:00,  5.87it/s, f_score=0.533, lr=0.0017, val_loss=0.658]\n"
          ]
        },
        {
          "output_type": "stream",
          "name": "stdout",
          "text": [
            "Finish Validation\n",
            "Epoch:46/100\n",
            "Total Loss: 0.454 || Val Loss: 0.658 \n",
            "Start Train\n"
          ]
        },
        {
          "output_type": "stream",
          "name": "stderr",
          "text": [
            "Epoch 47/100: 100%|██████████| 302/302 [01:00<00:00,  4.99it/s, f_score=0.569, lr=0.00163, total_loss=0.455]\n"
          ]
        },
        {
          "output_type": "stream",
          "name": "stdout",
          "text": [
            "Finish Train\n",
            "Start Validation\n"
          ]
        },
        {
          "output_type": "stream",
          "name": "stderr",
          "text": [
            "Epoch 47/100: 100%|██████████| 33/33 [00:05<00:00,  5.78it/s, f_score=0.551, lr=0.00163, val_loss=0.655]\n"
          ]
        },
        {
          "output_type": "stream",
          "name": "stdout",
          "text": [
            "Finish Validation\n",
            "Epoch:47/100\n",
            "Total Loss: 0.455 || Val Loss: 0.655 \n",
            "Start Train\n"
          ]
        },
        {
          "output_type": "stream",
          "name": "stderr",
          "text": [
            "Epoch 48/100: 100%|██████████| 302/302 [01:00<00:00,  4.99it/s, f_score=0.574, lr=0.00157, total_loss=0.454]\n"
          ]
        },
        {
          "output_type": "stream",
          "name": "stdout",
          "text": [
            "Finish Train\n",
            "Start Validation\n"
          ]
        },
        {
          "output_type": "stream",
          "name": "stderr",
          "text": [
            "Epoch 48/100: 100%|██████████| 33/33 [00:05<00:00,  5.81it/s, f_score=0.55, lr=0.00157, val_loss=0.665]\n"
          ]
        },
        {
          "output_type": "stream",
          "name": "stdout",
          "text": [
            "Finish Validation\n",
            "Epoch:48/100\n",
            "Total Loss: 0.454 || Val Loss: 0.665 \n",
            "Start Train\n"
          ]
        },
        {
          "output_type": "stream",
          "name": "stderr",
          "text": [
            "Epoch 49/100: 100%|██████████| 302/302 [01:00<00:00,  4.99it/s, f_score=0.571, lr=0.0015, total_loss=0.442]\n"
          ]
        },
        {
          "output_type": "stream",
          "name": "stdout",
          "text": [
            "Finish Train\n",
            "Start Validation\n"
          ]
        },
        {
          "output_type": "stream",
          "name": "stderr",
          "text": [
            "Epoch 49/100: 100%|██████████| 33/33 [00:05<00:00,  5.92it/s, f_score=0.541, lr=0.0015, val_loss=0.64]\n"
          ]
        },
        {
          "output_type": "stream",
          "name": "stdout",
          "text": [
            "Finish Validation\n",
            "Epoch:49/100\n",
            "Total Loss: 0.442 || Val Loss: 0.640 \n",
            "Save best model to best_epoch_weights.pth\n",
            "Start Train\n"
          ]
        },
        {
          "output_type": "stream",
          "name": "stderr",
          "text": [
            "Epoch 50/100: 100%|██████████| 302/302 [01:00<00:00,  4.99it/s, f_score=0.568, lr=0.00144, total_loss=0.46]\n"
          ]
        },
        {
          "output_type": "stream",
          "name": "stdout",
          "text": [
            "Finish Train\n",
            "Start Validation\n"
          ]
        },
        {
          "output_type": "stream",
          "name": "stderr",
          "text": [
            "Epoch 50/100: 100%|██████████| 33/33 [00:05<00:00,  5.82it/s, f_score=0.561, lr=0.00144, val_loss=0.639]\n"
          ]
        },
        {
          "output_type": "stream",
          "name": "stdout",
          "text": [
            "Finish Validation\n",
            "Get miou.\n"
          ]
        },
        {
          "output_type": "stream",
          "name": "stderr",
          "text": [
            "100%|██████████| 270/270 [00:13<00:00, 19.66it/s]\n"
          ]
        },
        {
          "output_type": "stream",
          "name": "stdout",
          "text": [
            "Calculate miou.\n",
            "Num classes 27\n",
            "===> mIoU: 26.38; mPA: 33.16; Accuracy: 77.93\n",
            "Get miou done.\n",
            "Epoch:50/100\n",
            "Total Loss: 0.460 || Val Loss: 0.639 \n",
            "Save best model to best_epoch_weights.pth\n",
            "Start Train\n"
          ]
        },
        {
          "output_type": "stream",
          "name": "stderr",
          "text": [
            "Epoch 51/100: 100%|██████████| 605/605 [01:22<00:00,  7.33it/s, f_score=0.585, lr=0.000686, total_loss=0.621]\n"
          ]
        },
        {
          "output_type": "stream",
          "name": "stdout",
          "text": [
            "Finish Train\n",
            "Start Validation\n"
          ]
        },
        {
          "output_type": "stream",
          "name": "stderr",
          "text": [
            "Epoch 51/100: 100%|██████████| 67/67 [00:06<00:00,  9.94it/s, f_score=0.588, lr=0.000686, val_loss=0.676]\n"
          ]
        },
        {
          "output_type": "stream",
          "name": "stdout",
          "text": [
            "Finish Validation\n",
            "Epoch:51/100\n",
            "Total Loss: 0.621 || Val Loss: 0.676 \n",
            "Start Train\n"
          ]
        },
        {
          "output_type": "stream",
          "name": "stderr",
          "text": [
            "Epoch 52/100: 100%|██████████| 605/605 [01:18<00:00,  7.70it/s, f_score=0.595, lr=0.000654, total_loss=0.531]\n"
          ]
        },
        {
          "output_type": "stream",
          "name": "stdout",
          "text": [
            "Finish Train\n",
            "Start Validation\n"
          ]
        },
        {
          "output_type": "stream",
          "name": "stderr",
          "text": [
            "Epoch 52/100: 100%|██████████| 67/67 [00:05<00:00, 11.98it/s, f_score=0.577, lr=0.000654, val_loss=0.68]\n"
          ]
        },
        {
          "output_type": "stream",
          "name": "stdout",
          "text": [
            "Finish Validation\n",
            "Epoch:52/100\n",
            "Total Loss: 0.531 || Val Loss: 0.680 \n",
            "Start Train\n"
          ]
        },
        {
          "output_type": "stream",
          "name": "stderr",
          "text": [
            "Epoch 53/100: 100%|██████████| 605/605 [01:18<00:00,  7.69it/s, f_score=0.603, lr=0.000622, total_loss=0.495]\n"
          ]
        },
        {
          "output_type": "stream",
          "name": "stdout",
          "text": [
            "Finish Train\n",
            "Start Validation\n"
          ]
        },
        {
          "output_type": "stream",
          "name": "stderr",
          "text": [
            "Epoch 53/100: 100%|██████████| 67/67 [00:05<00:00, 11.89it/s, f_score=0.588, lr=0.000622, val_loss=0.64]\n"
          ]
        },
        {
          "output_type": "stream",
          "name": "stdout",
          "text": [
            "Finish Validation\n",
            "Epoch:53/100\n",
            "Total Loss: 0.495 || Val Loss: 0.640 \n",
            "Start Train\n"
          ]
        },
        {
          "output_type": "stream",
          "name": "stderr",
          "text": [
            "Epoch 54/100: 100%|██████████| 605/605 [01:18<00:00,  7.72it/s, f_score=0.605, lr=0.000591, total_loss=0.494]\n"
          ]
        },
        {
          "output_type": "stream",
          "name": "stdout",
          "text": [
            "Finish Train\n",
            "Start Validation\n"
          ]
        },
        {
          "output_type": "stream",
          "name": "stderr",
          "text": [
            "Epoch 54/100: 100%|██████████| 67/67 [00:05<00:00, 11.72it/s, f_score=0.595, lr=0.000591, val_loss=0.657]\n"
          ]
        },
        {
          "output_type": "stream",
          "name": "stdout",
          "text": [
            "Finish Validation\n",
            "Epoch:54/100\n",
            "Total Loss: 0.494 || Val Loss: 0.657 \n",
            "Start Train\n"
          ]
        },
        {
          "output_type": "stream",
          "name": "stderr",
          "text": [
            "Epoch 55/100: 100%|██████████| 605/605 [01:18<00:00,  7.71it/s, f_score=0.612, lr=0.00056, total_loss=0.471]\n"
          ]
        },
        {
          "output_type": "stream",
          "name": "stdout",
          "text": [
            "Finish Train\n",
            "Start Validation\n"
          ]
        },
        {
          "output_type": "stream",
          "name": "stderr",
          "text": [
            "Epoch 55/100: 100%|██████████| 67/67 [00:05<00:00, 11.90it/s, f_score=0.588, lr=0.00056, val_loss=0.63]\n"
          ]
        },
        {
          "output_type": "stream",
          "name": "stdout",
          "text": [
            "Finish Validation\n",
            "Get miou.\n"
          ]
        },
        {
          "output_type": "stream",
          "name": "stderr",
          "text": [
            "100%|██████████| 270/270 [00:13<00:00, 20.52it/s]\n"
          ]
        },
        {
          "output_type": "stream",
          "name": "stdout",
          "text": [
            "Calculate miou.\n",
            "Num classes 27\n",
            "===> mIoU: 26.05; mPA: 33.83; Accuracy: 78.1\n",
            "Get miou done.\n",
            "Epoch:55/100\n",
            "Total Loss: 0.471 || Val Loss: 0.630 \n",
            "Save best model to best_epoch_weights.pth\n",
            "Start Train\n"
          ]
        },
        {
          "output_type": "stream",
          "name": "stderr",
          "text": [
            "Epoch 56/100: 100%|██████████| 605/605 [01:18<00:00,  7.71it/s, f_score=0.612, lr=0.000529, total_loss=0.462]\n"
          ]
        },
        {
          "output_type": "stream",
          "name": "stdout",
          "text": [
            "Finish Train\n",
            "Start Validation\n"
          ]
        },
        {
          "output_type": "stream",
          "name": "stderr",
          "text": [
            "Epoch 56/100: 100%|██████████| 67/67 [00:05<00:00, 11.92it/s, f_score=0.598, lr=0.000529, val_loss=0.615]\n"
          ]
        },
        {
          "output_type": "stream",
          "name": "stdout",
          "text": [
            "Finish Validation\n",
            "Epoch:56/100\n",
            "Total Loss: 0.462 || Val Loss: 0.615 \n",
            "Save best model to best_epoch_weights.pth\n",
            "Start Train\n"
          ]
        },
        {
          "output_type": "stream",
          "name": "stderr",
          "text": [
            "Epoch 57/100: 100%|██████████| 605/605 [01:18<00:00,  7.71it/s, f_score=0.613, lr=0.000499, total_loss=0.439]\n"
          ]
        },
        {
          "output_type": "stream",
          "name": "stdout",
          "text": [
            "Finish Train\n",
            "Start Validation\n"
          ]
        },
        {
          "output_type": "stream",
          "name": "stderr",
          "text": [
            "Epoch 57/100: 100%|██████████| 67/67 [00:05<00:00, 11.99it/s, f_score=0.597, lr=0.000499, val_loss=0.632]\n"
          ]
        },
        {
          "output_type": "stream",
          "name": "stdout",
          "text": [
            "Finish Validation\n",
            "Epoch:57/100\n",
            "Total Loss: 0.439 || Val Loss: 0.632 \n",
            "Start Train\n"
          ]
        },
        {
          "output_type": "stream",
          "name": "stderr",
          "text": [
            "Epoch 58/100: 100%|██████████| 605/605 [01:18<00:00,  7.71it/s, f_score=0.619, lr=0.00047, total_loss=0.437]\n"
          ]
        },
        {
          "output_type": "stream",
          "name": "stdout",
          "text": [
            "Finish Train\n",
            "Start Validation\n"
          ]
        },
        {
          "output_type": "stream",
          "name": "stderr",
          "text": [
            "Epoch 58/100: 100%|██████████| 67/67 [00:05<00:00, 12.00it/s, f_score=0.615, lr=0.00047, val_loss=0.616]\n"
          ]
        },
        {
          "output_type": "stream",
          "name": "stdout",
          "text": [
            "Finish Validation\n",
            "Epoch:58/100\n",
            "Total Loss: 0.437 || Val Loss: 0.616 \n",
            "Start Train\n"
          ]
        },
        {
          "output_type": "stream",
          "name": "stderr",
          "text": [
            "Epoch 59/100: 100%|██████████| 605/605 [01:18<00:00,  7.73it/s, f_score=0.622, lr=0.000441, total_loss=0.445]\n"
          ]
        },
        {
          "output_type": "stream",
          "name": "stdout",
          "text": [
            "Finish Train\n",
            "Start Validation\n"
          ]
        },
        {
          "output_type": "stream",
          "name": "stderr",
          "text": [
            "Epoch 59/100: 100%|██████████| 67/67 [00:05<00:00, 11.94it/s, f_score=0.599, lr=0.000441, val_loss=0.614]\n"
          ]
        },
        {
          "output_type": "stream",
          "name": "stdout",
          "text": [
            "Finish Validation\n",
            "Epoch:59/100\n",
            "Total Loss: 0.445 || Val Loss: 0.614 \n",
            "Save best model to best_epoch_weights.pth\n",
            "Start Train\n"
          ]
        },
        {
          "output_type": "stream",
          "name": "stderr",
          "text": [
            "Epoch 60/100: 100%|██████████| 605/605 [01:18<00:00,  7.72it/s, f_score=0.619, lr=0.000413, total_loss=0.431]\n"
          ]
        },
        {
          "output_type": "stream",
          "name": "stdout",
          "text": [
            "Finish Train\n",
            "Start Validation\n"
          ]
        },
        {
          "output_type": "stream",
          "name": "stderr",
          "text": [
            "Epoch 60/100: 100%|██████████| 67/67 [00:05<00:00, 11.94it/s, f_score=0.603, lr=0.000413, val_loss=0.604]\n"
          ]
        },
        {
          "output_type": "stream",
          "name": "stdout",
          "text": [
            "Finish Validation\n",
            "Get miou.\n"
          ]
        },
        {
          "output_type": "stream",
          "name": "stderr",
          "text": [
            "100%|██████████| 270/270 [00:13<00:00, 20.64it/s]\n"
          ]
        },
        {
          "output_type": "stream",
          "name": "stdout",
          "text": [
            "Calculate miou.\n",
            "Num classes 27\n",
            "===> mIoU: 26.7; mPA: 34.06; Accuracy: 79.0\n",
            "Get miou done.\n",
            "Epoch:60/100\n",
            "Total Loss: 0.431 || Val Loss: 0.604 \n",
            "Save best model to best_epoch_weights.pth\n",
            "Start Train\n"
          ]
        },
        {
          "output_type": "stream",
          "name": "stderr",
          "text": [
            "Epoch 61/100: 100%|██████████| 605/605 [01:18<00:00,  7.70it/s, f_score=0.623, lr=0.000385, total_loss=0.444]\n"
          ]
        },
        {
          "output_type": "stream",
          "name": "stdout",
          "text": [
            "Finish Train\n",
            "Start Validation\n"
          ]
        },
        {
          "output_type": "stream",
          "name": "stderr",
          "text": [
            "Epoch 61/100: 100%|██████████| 67/67 [00:05<00:00, 11.77it/s, f_score=0.607, lr=0.000385, val_loss=0.593]\n"
          ]
        },
        {
          "output_type": "stream",
          "name": "stdout",
          "text": [
            "Finish Validation\n",
            "Epoch:61/100\n",
            "Total Loss: 0.444 || Val Loss: 0.593 \n",
            "Save best model to best_epoch_weights.pth\n",
            "Start Train\n"
          ]
        },
        {
          "output_type": "stream",
          "name": "stderr",
          "text": [
            "Epoch 62/100: 100%|██████████| 605/605 [01:18<00:00,  7.72it/s, f_score=0.625, lr=0.000359, total_loss=0.417]\n"
          ]
        },
        {
          "output_type": "stream",
          "name": "stdout",
          "text": [
            "Finish Train\n",
            "Start Validation\n"
          ]
        },
        {
          "output_type": "stream",
          "name": "stderr",
          "text": [
            "Epoch 62/100: 100%|██████████| 67/67 [00:05<00:00, 12.00it/s, f_score=0.612, lr=0.000359, val_loss=0.608]\n"
          ]
        },
        {
          "output_type": "stream",
          "name": "stdout",
          "text": [
            "Finish Validation\n",
            "Epoch:62/100\n",
            "Total Loss: 0.417 || Val Loss: 0.608 \n",
            "Start Train\n"
          ]
        },
        {
          "output_type": "stream",
          "name": "stderr",
          "text": [
            "Epoch 63/100: 100%|██████████| 605/605 [01:18<00:00,  7.70it/s, f_score=0.628, lr=0.000333, total_loss=0.425]\n"
          ]
        },
        {
          "output_type": "stream",
          "name": "stdout",
          "text": [
            "Finish Train\n",
            "Start Validation\n"
          ]
        },
        {
          "output_type": "stream",
          "name": "stderr",
          "text": [
            "Epoch 63/100: 100%|██████████| 67/67 [00:05<00:00, 11.92it/s, f_score=0.609, lr=0.000333, val_loss=0.588]\n"
          ]
        },
        {
          "output_type": "stream",
          "name": "stdout",
          "text": [
            "Finish Validation\n",
            "Epoch:63/100\n",
            "Total Loss: 0.425 || Val Loss: 0.588 \n",
            "Save best model to best_epoch_weights.pth\n",
            "Start Train\n"
          ]
        },
        {
          "output_type": "stream",
          "name": "stderr",
          "text": [
            "Epoch 64/100: 100%|██████████| 605/605 [01:18<00:00,  7.71it/s, f_score=0.629, lr=0.000307, total_loss=0.409]\n"
          ]
        },
        {
          "output_type": "stream",
          "name": "stdout",
          "text": [
            "Finish Train\n",
            "Start Validation\n"
          ]
        },
        {
          "output_type": "stream",
          "name": "stderr",
          "text": [
            "Epoch 64/100: 100%|██████████| 67/67 [00:05<00:00, 11.95it/s, f_score=0.602, lr=0.000307, val_loss=0.601]\n"
          ]
        },
        {
          "output_type": "stream",
          "name": "stdout",
          "text": [
            "Finish Validation\n",
            "Epoch:64/100\n",
            "Total Loss: 0.409 || Val Loss: 0.601 \n",
            "Start Train\n"
          ]
        },
        {
          "output_type": "stream",
          "name": "stderr",
          "text": [
            "Epoch 65/100: 100%|██████████| 605/605 [01:18<00:00,  7.71it/s, f_score=0.63, lr=0.000283, total_loss=0.41]\n"
          ]
        },
        {
          "output_type": "stream",
          "name": "stdout",
          "text": [
            "Finish Train\n",
            "Start Validation\n"
          ]
        },
        {
          "output_type": "stream",
          "name": "stderr",
          "text": [
            "Epoch 65/100: 100%|██████████| 67/67 [00:05<00:00, 11.95it/s, f_score=0.611, lr=0.000283, val_loss=0.565]\n"
          ]
        },
        {
          "output_type": "stream",
          "name": "stdout",
          "text": [
            "Finish Validation\n",
            "Get miou.\n"
          ]
        },
        {
          "output_type": "stream",
          "name": "stderr",
          "text": [
            "100%|██████████| 270/270 [00:13<00:00, 20.52it/s]\n"
          ]
        },
        {
          "output_type": "stream",
          "name": "stdout",
          "text": [
            "Calculate miou.\n",
            "Num classes 27\n",
            "===> mIoU: 28.14; mPA: 35.9; Accuracy: 80.35\n",
            "Get miou done.\n",
            "Epoch:65/100\n",
            "Total Loss: 0.410 || Val Loss: 0.565 \n",
            "Save best model to best_epoch_weights.pth\n",
            "Start Train\n"
          ]
        },
        {
          "output_type": "stream",
          "name": "stderr",
          "text": [
            "Epoch 66/100: 100%|██████████| 605/605 [01:18<00:00,  7.74it/s, f_score=0.63, lr=0.00026, total_loss=0.4]\n"
          ]
        },
        {
          "output_type": "stream",
          "name": "stdout",
          "text": [
            "Finish Train\n",
            "Start Validation\n"
          ]
        },
        {
          "output_type": "stream",
          "name": "stderr",
          "text": [
            "Epoch 66/100: 100%|██████████| 67/67 [00:05<00:00, 11.83it/s, f_score=0.613, lr=0.00026, val_loss=0.575]\n"
          ]
        },
        {
          "output_type": "stream",
          "name": "stdout",
          "text": [
            "Finish Validation\n",
            "Epoch:66/100\n",
            "Total Loss: 0.400 || Val Loss: 0.575 \n",
            "Start Train\n"
          ]
        },
        {
          "output_type": "stream",
          "name": "stderr",
          "text": [
            "Epoch 67/100: 100%|██████████| 605/605 [01:18<00:00,  7.72it/s, f_score=0.632, lr=0.000237, total_loss=0.398]\n"
          ]
        },
        {
          "output_type": "stream",
          "name": "stdout",
          "text": [
            "Finish Train\n",
            "Start Validation\n"
          ]
        },
        {
          "output_type": "stream",
          "name": "stderr",
          "text": [
            "Epoch 67/100: 100%|██████████| 67/67 [00:05<00:00, 11.96it/s, f_score=0.611, lr=0.000237, val_loss=0.575]\n"
          ]
        },
        {
          "output_type": "stream",
          "name": "stdout",
          "text": [
            "Finish Validation\n",
            "Epoch:67/100\n",
            "Total Loss: 0.398 || Val Loss: 0.575 \n",
            "Start Train\n"
          ]
        },
        {
          "output_type": "stream",
          "name": "stderr",
          "text": [
            "Epoch 68/100: 100%|██████████| 605/605 [01:18<00:00,  7.71it/s, f_score=0.632, lr=0.000215, total_loss=0.401]\n"
          ]
        },
        {
          "output_type": "stream",
          "name": "stdout",
          "text": [
            "Finish Train\n",
            "Start Validation\n"
          ]
        },
        {
          "output_type": "stream",
          "name": "stderr",
          "text": [
            "Epoch 68/100: 100%|██████████| 67/67 [00:05<00:00, 11.87it/s, f_score=0.606, lr=0.000215, val_loss=0.573]\n"
          ]
        },
        {
          "output_type": "stream",
          "name": "stdout",
          "text": [
            "Finish Validation\n",
            "Epoch:68/100\n",
            "Total Loss: 0.401 || Val Loss: 0.573 \n",
            "Start Train\n"
          ]
        },
        {
          "output_type": "stream",
          "name": "stderr",
          "text": [
            "Epoch 69/100: 100%|██████████| 605/605 [01:18<00:00,  7.71it/s, f_score=0.633, lr=0.000195, total_loss=0.396]\n"
          ]
        },
        {
          "output_type": "stream",
          "name": "stdout",
          "text": [
            "Finish Train\n",
            "Start Validation\n"
          ]
        },
        {
          "output_type": "stream",
          "name": "stderr",
          "text": [
            "Epoch 69/100: 100%|██████████| 67/67 [00:05<00:00, 12.03it/s, f_score=0.614, lr=0.000195, val_loss=0.557]\n"
          ]
        },
        {
          "output_type": "stream",
          "name": "stdout",
          "text": [
            "Finish Validation\n",
            "Epoch:69/100\n",
            "Total Loss: 0.396 || Val Loss: 0.557 \n",
            "Save best model to best_epoch_weights.pth\n",
            "Start Train\n"
          ]
        },
        {
          "output_type": "stream",
          "name": "stderr",
          "text": [
            "Epoch 70/100: 100%|██████████| 605/605 [01:18<00:00,  7.73it/s, f_score=0.631, lr=0.000175, total_loss=0.405]\n"
          ]
        },
        {
          "output_type": "stream",
          "name": "stdout",
          "text": [
            "Finish Train\n",
            "Start Validation\n"
          ]
        },
        {
          "output_type": "stream",
          "name": "stderr",
          "text": [
            "Epoch 70/100: 100%|██████████| 67/67 [00:05<00:00, 11.90it/s, f_score=0.613, lr=0.000175, val_loss=0.56]\n"
          ]
        },
        {
          "output_type": "stream",
          "name": "stdout",
          "text": [
            "Finish Validation\n",
            "Get miou.\n"
          ]
        },
        {
          "output_type": "stream",
          "name": "stderr",
          "text": [
            "100%|██████████| 270/270 [00:13<00:00, 20.62it/s]\n"
          ]
        },
        {
          "output_type": "stream",
          "name": "stdout",
          "text": [
            "Calculate miou.\n",
            "Num classes 27\n",
            "===> mIoU: 28.26; mPA: 35.64; Accuracy: 80.7\n",
            "Get miou done.\n",
            "Epoch:70/100\n",
            "Total Loss: 0.405 || Val Loss: 0.560 \n",
            "Start Train\n"
          ]
        },
        {
          "output_type": "stream",
          "name": "stderr",
          "text": [
            "Epoch 71/100: 100%|██████████| 605/605 [01:18<00:00,  7.70it/s, f_score=0.633, lr=0.000157, total_loss=0.39]\n"
          ]
        },
        {
          "output_type": "stream",
          "name": "stdout",
          "text": [
            "Finish Train\n",
            "Start Validation\n"
          ]
        },
        {
          "output_type": "stream",
          "name": "stderr",
          "text": [
            "Epoch 71/100: 100%|██████████| 67/67 [00:05<00:00, 11.72it/s, f_score=0.613, lr=0.000157, val_loss=0.568]\n"
          ]
        },
        {
          "output_type": "stream",
          "name": "stdout",
          "text": [
            "Finish Validation\n",
            "Epoch:71/100\n",
            "Total Loss: 0.390 || Val Loss: 0.568 \n",
            "Start Train\n"
          ]
        },
        {
          "output_type": "stream",
          "name": "stderr",
          "text": [
            "Epoch 72/100: 100%|██████████| 605/605 [01:18<00:00,  7.71it/s, f_score=0.636, lr=0.000139, total_loss=0.388]\n"
          ]
        },
        {
          "output_type": "stream",
          "name": "stdout",
          "text": [
            "Finish Train\n",
            "Start Validation\n"
          ]
        },
        {
          "output_type": "stream",
          "name": "stderr",
          "text": [
            "Epoch 72/100: 100%|██████████| 67/67 [00:05<00:00, 11.78it/s, f_score=0.617, lr=0.000139, val_loss=0.554]\n"
          ]
        },
        {
          "output_type": "stream",
          "name": "stdout",
          "text": [
            "Finish Validation\n",
            "Epoch:72/100\n",
            "Total Loss: 0.388 || Val Loss: 0.554 \n",
            "Save best model to best_epoch_weights.pth\n",
            "Start Train\n"
          ]
        },
        {
          "output_type": "stream",
          "name": "stderr",
          "text": [
            "Epoch 73/100: 100%|██████████| 605/605 [01:18<00:00,  7.69it/s, f_score=0.638, lr=0.000123, total_loss=0.393]\n"
          ]
        },
        {
          "output_type": "stream",
          "name": "stdout",
          "text": [
            "Finish Train\n",
            "Start Validation\n"
          ]
        },
        {
          "output_type": "stream",
          "name": "stderr",
          "text": [
            "Epoch 73/100: 100%|██████████| 67/67 [00:05<00:00, 11.80it/s, f_score=0.616, lr=0.000123, val_loss=0.566]\n"
          ]
        },
        {
          "output_type": "stream",
          "name": "stdout",
          "text": [
            "Finish Validation\n",
            "Epoch:73/100\n",
            "Total Loss: 0.393 || Val Loss: 0.566 \n",
            "Start Train\n"
          ]
        },
        {
          "output_type": "stream",
          "name": "stderr",
          "text": [
            "Epoch 74/100: 100%|██████████| 605/605 [01:18<00:00,  7.69it/s, f_score=0.637, lr=0.000107, total_loss=0.381]\n"
          ]
        },
        {
          "output_type": "stream",
          "name": "stdout",
          "text": [
            "Finish Train\n",
            "Start Validation\n"
          ]
        },
        {
          "output_type": "stream",
          "name": "stderr",
          "text": [
            "Epoch 74/100: 100%|██████████| 67/67 [00:05<00:00, 11.87it/s, f_score=0.618, lr=0.000107, val_loss=0.54]\n"
          ]
        },
        {
          "output_type": "stream",
          "name": "stdout",
          "text": [
            "Finish Validation\n",
            "Epoch:74/100\n",
            "Total Loss: 0.381 || Val Loss: 0.540 \n",
            "Save best model to best_epoch_weights.pth\n",
            "Start Train\n"
          ]
        },
        {
          "output_type": "stream",
          "name": "stderr",
          "text": [
            "Epoch 75/100: 100%|██████████| 605/605 [01:18<00:00,  7.71it/s, f_score=0.638, lr=9.33e-5, total_loss=0.382]\n"
          ]
        },
        {
          "output_type": "stream",
          "name": "stdout",
          "text": [
            "Finish Train\n",
            "Start Validation\n"
          ]
        },
        {
          "output_type": "stream",
          "name": "stderr",
          "text": [
            "Epoch 75/100: 100%|██████████| 67/67 [00:05<00:00, 11.82it/s, f_score=0.612, lr=9.33e-5, val_loss=0.554]\n"
          ]
        },
        {
          "output_type": "stream",
          "name": "stdout",
          "text": [
            "Finish Validation\n",
            "Get miou.\n"
          ]
        },
        {
          "output_type": "stream",
          "name": "stderr",
          "text": [
            "100%|██████████| 270/270 [00:13<00:00, 20.26it/s]\n"
          ]
        },
        {
          "output_type": "stream",
          "name": "stdout",
          "text": [
            "Calculate miou.\n",
            "Num classes 27\n",
            "===> mIoU: 28.64; mPA: 36.41; Accuracy: 80.76\n",
            "Get miou done.\n",
            "Epoch:75/100\n",
            "Total Loss: 0.382 || Val Loss: 0.554 \n",
            "Start Train\n"
          ]
        },
        {
          "output_type": "stream",
          "name": "stderr",
          "text": [
            "Epoch 76/100: 100%|██████████| 605/605 [01:18<00:00,  7.71it/s, f_score=0.637, lr=8.03e-5, total_loss=0.376]\n"
          ]
        },
        {
          "output_type": "stream",
          "name": "stdout",
          "text": [
            "Finish Train\n",
            "Start Validation\n"
          ]
        },
        {
          "output_type": "stream",
          "name": "stderr",
          "text": [
            "Epoch 76/100: 100%|██████████| 67/67 [00:05<00:00, 11.81it/s, f_score=0.617, lr=8.03e-5, val_loss=0.554]\n"
          ]
        },
        {
          "output_type": "stream",
          "name": "stdout",
          "text": [
            "Finish Validation\n",
            "Epoch:76/100\n",
            "Total Loss: 0.376 || Val Loss: 0.554 \n",
            "Start Train\n"
          ]
        },
        {
          "output_type": "stream",
          "name": "stderr",
          "text": [
            "Epoch 77/100: 100%|██████████| 605/605 [01:18<00:00,  7.70it/s, f_score=0.639, lr=6.85e-5, total_loss=0.368]\n"
          ]
        },
        {
          "output_type": "stream",
          "name": "stdout",
          "text": [
            "Finish Train\n",
            "Start Validation\n"
          ]
        },
        {
          "output_type": "stream",
          "name": "stderr",
          "text": [
            "Epoch 77/100: 100%|██████████| 67/67 [00:05<00:00, 11.86it/s, f_score=0.619, lr=6.85e-5, val_loss=0.555]\n"
          ]
        },
        {
          "output_type": "stream",
          "name": "stdout",
          "text": [
            "Finish Validation\n",
            "Epoch:77/100\n",
            "Total Loss: 0.368 || Val Loss: 0.555 \n",
            "Start Train\n"
          ]
        },
        {
          "output_type": "stream",
          "name": "stderr",
          "text": [
            "Epoch 78/100: 100%|██████████| 605/605 [01:18<00:00,  7.72it/s, f_score=0.638, lr=5.79e-5, total_loss=0.389]\n"
          ]
        },
        {
          "output_type": "stream",
          "name": "stdout",
          "text": [
            "Finish Train\n",
            "Start Validation\n"
          ]
        },
        {
          "output_type": "stream",
          "name": "stderr",
          "text": [
            "Epoch 78/100: 100%|██████████| 67/67 [00:05<00:00, 11.77it/s, f_score=0.619, lr=5.79e-5, val_loss=0.544]\n"
          ]
        },
        {
          "output_type": "stream",
          "name": "stdout",
          "text": [
            "Finish Validation\n",
            "Epoch:78/100\n",
            "Total Loss: 0.389 || Val Loss: 0.544 \n",
            "Start Train\n"
          ]
        },
        {
          "output_type": "stream",
          "name": "stderr",
          "text": [
            "Epoch 79/100: 100%|██████████| 605/605 [01:18<00:00,  7.70it/s, f_score=0.637, lr=4.85e-5, total_loss=0.378]\n"
          ]
        },
        {
          "output_type": "stream",
          "name": "stdout",
          "text": [
            "Finish Train\n",
            "Start Validation\n"
          ]
        },
        {
          "output_type": "stream",
          "name": "stderr",
          "text": [
            "Epoch 79/100: 100%|██████████| 67/67 [00:05<00:00, 11.84it/s, f_score=0.621, lr=4.85e-5, val_loss=0.542]\n"
          ]
        },
        {
          "output_type": "stream",
          "name": "stdout",
          "text": [
            "Finish Validation\n",
            "Epoch:79/100\n",
            "Total Loss: 0.378 || Val Loss: 0.542 \n",
            "Start Train\n"
          ]
        },
        {
          "output_type": "stream",
          "name": "stderr",
          "text": [
            "Epoch 80/100: 100%|██████████| 605/605 [01:18<00:00,  7.69it/s, f_score=0.637, lr=4.03e-5, total_loss=0.384]\n"
          ]
        },
        {
          "output_type": "stream",
          "name": "stdout",
          "text": [
            "Finish Train\n",
            "Start Validation\n"
          ]
        },
        {
          "output_type": "stream",
          "name": "stderr",
          "text": [
            "Epoch 80/100: 100%|██████████| 67/67 [00:05<00:00, 11.69it/s, f_score=0.624, lr=4.03e-5, val_loss=0.55]\n"
          ]
        },
        {
          "output_type": "stream",
          "name": "stdout",
          "text": [
            "Finish Validation\n",
            "Get miou.\n"
          ]
        },
        {
          "output_type": "stream",
          "name": "stderr",
          "text": [
            "100%|██████████| 270/270 [00:13<00:00, 20.10it/s]\n"
          ]
        },
        {
          "output_type": "stream",
          "name": "stdout",
          "text": [
            "Calculate miou.\n",
            "Num classes 27\n",
            "===> mIoU: 28.59; mPA: 36.63; Accuracy: 80.95\n",
            "Get miou done.\n",
            "Epoch:80/100\n",
            "Total Loss: 0.384 || Val Loss: 0.550 \n",
            "Start Train\n"
          ]
        },
        {
          "output_type": "stream",
          "name": "stderr",
          "text": [
            "Epoch 81/100: 100%|██████████| 605/605 [01:18<00:00,  7.70it/s, f_score=0.639, lr=3.33e-5, total_loss=0.373]\n"
          ]
        },
        {
          "output_type": "stream",
          "name": "stdout",
          "text": [
            "Finish Train\n",
            "Start Validation\n"
          ]
        },
        {
          "output_type": "stream",
          "name": "stderr",
          "text": [
            "Epoch 81/100: 100%|██████████| 67/67 [00:05<00:00, 12.03it/s, f_score=0.622, lr=3.33e-5, val_loss=0.544]\n"
          ]
        },
        {
          "output_type": "stream",
          "name": "stdout",
          "text": [
            "Finish Validation\n",
            "Epoch:81/100\n",
            "Total Loss: 0.373 || Val Loss: 0.544 \n",
            "Start Train\n"
          ]
        },
        {
          "output_type": "stream",
          "name": "stderr",
          "text": [
            "Epoch 82/100: 100%|██████████| 605/605 [01:18<00:00,  7.69it/s, f_score=0.635, lr=2.77e-5, total_loss=0.382]\n"
          ]
        },
        {
          "output_type": "stream",
          "name": "stdout",
          "text": [
            "Finish Train\n",
            "Start Validation\n"
          ]
        },
        {
          "output_type": "stream",
          "name": "stderr",
          "text": [
            "Epoch 82/100: 100%|██████████| 67/67 [00:05<00:00, 11.73it/s, f_score=0.618, lr=2.77e-5, val_loss=0.55]\n"
          ]
        },
        {
          "output_type": "stream",
          "name": "stdout",
          "text": [
            "Finish Validation\n",
            "Epoch:82/100\n",
            "Total Loss: 0.382 || Val Loss: 0.550 \n",
            "Start Train\n"
          ]
        },
        {
          "output_type": "stream",
          "name": "stderr",
          "text": [
            "Epoch 83/100: 100%|██████████| 605/605 [01:18<00:00,  7.72it/s, f_score=0.64, lr=2.32e-5, total_loss=0.375]\n"
          ]
        },
        {
          "output_type": "stream",
          "name": "stdout",
          "text": [
            "Finish Train\n",
            "Start Validation\n"
          ]
        },
        {
          "output_type": "stream",
          "name": "stderr",
          "text": [
            "Epoch 83/100: 100%|██████████| 67/67 [00:05<00:00, 11.90it/s, f_score=0.622, lr=2.32e-5, val_loss=0.542]\n"
          ]
        },
        {
          "output_type": "stream",
          "name": "stdout",
          "text": [
            "Finish Validation\n",
            "Epoch:83/100\n",
            "Total Loss: 0.375 || Val Loss: 0.542 \n",
            "Start Train\n"
          ]
        },
        {
          "output_type": "stream",
          "name": "stderr",
          "text": [
            "Epoch 84/100: 100%|██████████| 605/605 [01:18<00:00,  7.71it/s, f_score=0.639, lr=2e-5, total_loss=0.384]\n"
          ]
        },
        {
          "output_type": "stream",
          "name": "stdout",
          "text": [
            "Finish Train\n",
            "Start Validation\n"
          ]
        },
        {
          "output_type": "stream",
          "name": "stderr",
          "text": [
            "Epoch 84/100: 100%|██████████| 67/67 [00:05<00:00, 11.72it/s, f_score=0.622, lr=2e-5, val_loss=0.551]\n"
          ]
        },
        {
          "output_type": "stream",
          "name": "stdout",
          "text": [
            "Finish Validation\n",
            "Epoch:84/100\n",
            "Total Loss: 0.384 || Val Loss: 0.551 \n",
            "Start Train\n"
          ]
        },
        {
          "output_type": "stream",
          "name": "stderr",
          "text": [
            "Epoch 85/100: 100%|██████████| 605/605 [01:18<00:00,  7.71it/s, f_score=0.64, lr=1.81e-5, total_loss=0.374]\n"
          ]
        },
        {
          "output_type": "stream",
          "name": "stdout",
          "text": [
            "Finish Train\n",
            "Start Validation\n"
          ]
        },
        {
          "output_type": "stream",
          "name": "stderr",
          "text": [
            "Epoch 85/100: 100%|██████████| 67/67 [00:05<00:00, 11.73it/s, f_score=0.625, lr=1.81e-5, val_loss=0.54]\n"
          ]
        },
        {
          "output_type": "stream",
          "name": "stdout",
          "text": [
            "Finish Validation\n",
            "Get miou.\n"
          ]
        },
        {
          "output_type": "stream",
          "name": "stderr",
          "text": [
            "100%|██████████| 270/270 [00:13<00:00, 20.19it/s]\n"
          ]
        },
        {
          "output_type": "stream",
          "name": "stdout",
          "text": [
            "Calculate miou.\n",
            "Num classes 27\n",
            "===> mIoU: 29.05; mPA: 36.21; Accuracy: 81.4\n",
            "Get miou done.\n",
            "Epoch:85/100\n",
            "Total Loss: 0.374 || Val Loss: 0.540 \n",
            "Save best model to best_epoch_weights.pth\n",
            "Start Train\n"
          ]
        },
        {
          "output_type": "stream",
          "name": "stderr",
          "text": [
            "Epoch 86/100: 100%|██████████| 605/605 [01:18<00:00,  7.71it/s, f_score=0.64, lr=1.75e-5, total_loss=0.374]\n"
          ]
        },
        {
          "output_type": "stream",
          "name": "stdout",
          "text": [
            "Finish Train\n",
            "Start Validation\n"
          ]
        },
        {
          "output_type": "stream",
          "name": "stderr",
          "text": [
            "Epoch 86/100: 100%|██████████| 67/67 [00:05<00:00, 11.84it/s, f_score=0.618, lr=1.75e-5, val_loss=0.538]\n"
          ]
        },
        {
          "output_type": "stream",
          "name": "stdout",
          "text": [
            "Finish Validation\n",
            "Epoch:86/100\n",
            "Total Loss: 0.374 || Val Loss: 0.538 \n",
            "Save best model to best_epoch_weights.pth\n",
            "Start Train\n"
          ]
        },
        {
          "output_type": "stream",
          "name": "stderr",
          "text": [
            "Epoch 87/100: 100%|██████████| 605/605 [01:18<00:00,  7.70it/s, f_score=0.64, lr=1.75e-5, total_loss=0.38]\n"
          ]
        },
        {
          "output_type": "stream",
          "name": "stdout",
          "text": [
            "Finish Train\n",
            "Start Validation\n"
          ]
        },
        {
          "output_type": "stream",
          "name": "stderr",
          "text": [
            "Epoch 87/100: 100%|██████████| 67/67 [00:05<00:00, 12.06it/s, f_score=0.619, lr=1.75e-5, val_loss=0.552]\n"
          ]
        },
        {
          "output_type": "stream",
          "name": "stdout",
          "text": [
            "Finish Validation\n",
            "Epoch:87/100\n",
            "Total Loss: 0.380 || Val Loss: 0.552 \n",
            "Start Train\n"
          ]
        },
        {
          "output_type": "stream",
          "name": "stderr",
          "text": [
            "Epoch 88/100: 100%|██████████| 605/605 [01:18<00:00,  7.71it/s, f_score=0.637, lr=1.75e-5, total_loss=0.382]\n"
          ]
        },
        {
          "output_type": "stream",
          "name": "stdout",
          "text": [
            "Finish Train\n",
            "Start Validation\n"
          ]
        },
        {
          "output_type": "stream",
          "name": "stderr",
          "text": [
            "Epoch 88/100: 100%|██████████| 67/67 [00:05<00:00, 11.82it/s, f_score=0.617, lr=1.75e-5, val_loss=0.55]\n"
          ]
        },
        {
          "output_type": "stream",
          "name": "stdout",
          "text": [
            "Finish Validation\n",
            "Epoch:88/100\n",
            "Total Loss: 0.382 || Val Loss: 0.550 \n",
            "Start Train\n"
          ]
        },
        {
          "output_type": "stream",
          "name": "stderr",
          "text": [
            "Epoch 89/100: 100%|██████████| 605/605 [01:18<00:00,  7.69it/s, f_score=0.636, lr=1.75e-5, total_loss=0.365]\n"
          ]
        },
        {
          "output_type": "stream",
          "name": "stdout",
          "text": [
            "Finish Train\n",
            "Start Validation\n"
          ]
        },
        {
          "output_type": "stream",
          "name": "stderr",
          "text": [
            "Epoch 89/100: 100%|██████████| 67/67 [00:05<00:00, 12.02it/s, f_score=0.612, lr=1.75e-5, val_loss=0.549]\n"
          ]
        },
        {
          "output_type": "stream",
          "name": "stdout",
          "text": [
            "Finish Validation\n",
            "Epoch:89/100\n",
            "Total Loss: 0.365 || Val Loss: 0.549 \n",
            "Start Train\n"
          ]
        },
        {
          "output_type": "stream",
          "name": "stderr",
          "text": [
            "Epoch 90/100: 100%|██████████| 605/605 [01:18<00:00,  7.71it/s, f_score=0.638, lr=1.75e-5, total_loss=0.372]\n"
          ]
        },
        {
          "output_type": "stream",
          "name": "stdout",
          "text": [
            "Finish Train\n",
            "Start Validation\n"
          ]
        },
        {
          "output_type": "stream",
          "name": "stderr",
          "text": [
            "Epoch 90/100: 100%|██████████| 67/67 [00:05<00:00, 12.07it/s, f_score=0.615, lr=1.75e-5, val_loss=0.537]\n"
          ]
        },
        {
          "output_type": "stream",
          "name": "stdout",
          "text": [
            "Finish Validation\n",
            "Get miou.\n"
          ]
        },
        {
          "output_type": "stream",
          "name": "stderr",
          "text": [
            "100%|██████████| 270/270 [00:13<00:00, 20.22it/s]\n"
          ]
        },
        {
          "output_type": "stream",
          "name": "stdout",
          "text": [
            "Calculate miou.\n",
            "Num classes 27\n",
            "===> mIoU: 28.92; mPA: 36.21; Accuracy: 81.51\n",
            "Get miou done.\n",
            "Epoch:90/100\n",
            "Total Loss: 0.372 || Val Loss: 0.537 \n",
            "Save best model to best_epoch_weights.pth\n",
            "Start Train\n"
          ]
        },
        {
          "output_type": "stream",
          "name": "stderr",
          "text": [
            "Epoch 91/100: 100%|██████████| 605/605 [01:18<00:00,  7.69it/s, f_score=0.64, lr=1.75e-5, total_loss=0.385]\n"
          ]
        },
        {
          "output_type": "stream",
          "name": "stdout",
          "text": [
            "Finish Train\n",
            "Start Validation\n"
          ]
        },
        {
          "output_type": "stream",
          "name": "stderr",
          "text": [
            "Epoch 91/100: 100%|██████████| 67/67 [00:05<00:00, 12.07it/s, f_score=0.62, lr=1.75e-5, val_loss=0.558]\n"
          ]
        },
        {
          "output_type": "stream",
          "name": "stdout",
          "text": [
            "Finish Validation\n",
            "Epoch:91/100\n",
            "Total Loss: 0.385 || Val Loss: 0.558 \n",
            "Start Train\n"
          ]
        },
        {
          "output_type": "stream",
          "name": "stderr",
          "text": [
            "Epoch 92/100: 100%|██████████| 605/605 [01:18<00:00,  7.70it/s, f_score=0.639, lr=1.75e-5, total_loss=0.382]\n"
          ]
        },
        {
          "output_type": "stream",
          "name": "stdout",
          "text": [
            "Finish Train\n",
            "Start Validation\n"
          ]
        },
        {
          "output_type": "stream",
          "name": "stderr",
          "text": [
            "Epoch 92/100: 100%|██████████| 67/67 [00:05<00:00, 11.83it/s, f_score=0.629, lr=1.75e-5, val_loss=0.532]\n"
          ]
        },
        {
          "output_type": "stream",
          "name": "stdout",
          "text": [
            "Finish Validation\n",
            "Epoch:92/100\n",
            "Total Loss: 0.382 || Val Loss: 0.532 \n",
            "Save best model to best_epoch_weights.pth\n",
            "Start Train\n"
          ]
        },
        {
          "output_type": "stream",
          "name": "stderr",
          "text": [
            "Epoch 93/100: 100%|██████████| 605/605 [01:18<00:00,  7.70it/s, f_score=0.642, lr=1.75e-5, total_loss=0.381]\n"
          ]
        },
        {
          "output_type": "stream",
          "name": "stdout",
          "text": [
            "Finish Train\n",
            "Start Validation\n"
          ]
        },
        {
          "output_type": "stream",
          "name": "stderr",
          "text": [
            "Epoch 93/100: 100%|██████████| 67/67 [00:05<00:00, 11.83it/s, f_score=0.622, lr=1.75e-5, val_loss=0.549]\n"
          ]
        },
        {
          "output_type": "stream",
          "name": "stdout",
          "text": [
            "Finish Validation\n",
            "Epoch:93/100\n",
            "Total Loss: 0.381 || Val Loss: 0.549 \n",
            "Start Train\n"
          ]
        },
        {
          "output_type": "stream",
          "name": "stderr",
          "text": [
            "Epoch 94/100: 100%|██████████| 605/605 [01:18<00:00,  7.70it/s, f_score=0.636, lr=1.75e-5, total_loss=0.382]\n"
          ]
        },
        {
          "output_type": "stream",
          "name": "stdout",
          "text": [
            "Finish Train\n",
            "Start Validation\n"
          ]
        },
        {
          "output_type": "stream",
          "name": "stderr",
          "text": [
            "Epoch 94/100: 100%|██████████| 67/67 [00:05<00:00, 11.70it/s, f_score=0.621, lr=1.75e-5, val_loss=0.541]\n"
          ]
        },
        {
          "output_type": "stream",
          "name": "stdout",
          "text": [
            "Finish Validation\n",
            "Epoch:94/100\n",
            "Total Loss: 0.382 || Val Loss: 0.541 \n",
            "Start Train\n"
          ]
        },
        {
          "output_type": "stream",
          "name": "stderr",
          "text": [
            "Epoch 95/100: 100%|██████████| 605/605 [01:18<00:00,  7.70it/s, f_score=0.64, lr=1.75e-5, total_loss=0.367]\n"
          ]
        },
        {
          "output_type": "stream",
          "name": "stdout",
          "text": [
            "Finish Train\n",
            "Start Validation\n"
          ]
        },
        {
          "output_type": "stream",
          "name": "stderr",
          "text": [
            "Epoch 95/100: 100%|██████████| 67/67 [00:05<00:00, 11.77it/s, f_score=0.627, lr=1.75e-5, val_loss=0.53]\n"
          ]
        },
        {
          "output_type": "stream",
          "name": "stdout",
          "text": [
            "Finish Validation\n",
            "Get miou.\n"
          ]
        },
        {
          "output_type": "stream",
          "name": "stderr",
          "text": [
            "100%|██████████| 270/270 [00:13<00:00, 20.29it/s]\n"
          ]
        },
        {
          "output_type": "stream",
          "name": "stdout",
          "text": [
            "Calculate miou.\n",
            "Num classes 27\n",
            "===> mIoU: 29.19; mPA: 36.53; Accuracy: 81.73\n",
            "Get miou done.\n",
            "Epoch:95/100\n",
            "Total Loss: 0.367 || Val Loss: 0.530 \n",
            "Save best model to best_epoch_weights.pth\n",
            "Start Train\n"
          ]
        },
        {
          "output_type": "stream",
          "name": "stderr",
          "text": [
            "Epoch 96/100: 100%|██████████| 605/605 [01:18<00:00,  7.69it/s, f_score=0.638, lr=1.75e-5, total_loss=0.365]\n"
          ]
        },
        {
          "output_type": "stream",
          "name": "stdout",
          "text": [
            "Finish Train\n",
            "Start Validation\n"
          ]
        },
        {
          "output_type": "stream",
          "name": "stderr",
          "text": [
            "Epoch 96/100: 100%|██████████| 67/67 [00:05<00:00, 11.94it/s, f_score=0.616, lr=1.75e-5, val_loss=0.554]\n"
          ]
        },
        {
          "output_type": "stream",
          "name": "stdout",
          "text": [
            "Finish Validation\n",
            "Epoch:96/100\n",
            "Total Loss: 0.365 || Val Loss: 0.554 \n",
            "Start Train\n"
          ]
        },
        {
          "output_type": "stream",
          "name": "stderr",
          "text": [
            "Epoch 97/100: 100%|██████████| 605/605 [01:18<00:00,  7.70it/s, f_score=0.64, lr=1.75e-5, total_loss=0.37]\n"
          ]
        },
        {
          "output_type": "stream",
          "name": "stdout",
          "text": [
            "Finish Train\n",
            "Start Validation\n"
          ]
        },
        {
          "output_type": "stream",
          "name": "stderr",
          "text": [
            "Epoch 97/100: 100%|██████████| 67/67 [00:05<00:00, 12.03it/s, f_score=0.619, lr=1.75e-5, val_loss=0.53]\n"
          ]
        },
        {
          "output_type": "stream",
          "name": "stdout",
          "text": [
            "Finish Validation\n",
            "Epoch:97/100\n",
            "Total Loss: 0.370 || Val Loss: 0.530 \n",
            "Start Train\n"
          ]
        },
        {
          "output_type": "stream",
          "name": "stderr",
          "text": [
            "Epoch 98/100: 100%|██████████| 605/605 [01:18<00:00,  7.68it/s, f_score=0.638, lr=1.75e-5, total_loss=0.364]\n"
          ]
        },
        {
          "output_type": "stream",
          "name": "stdout",
          "text": [
            "Finish Train\n",
            "Start Validation\n"
          ]
        },
        {
          "output_type": "stream",
          "name": "stderr",
          "text": [
            "Epoch 98/100: 100%|██████████| 67/67 [00:05<00:00, 11.92it/s, f_score=0.613, lr=1.75e-5, val_loss=0.564]\n"
          ]
        },
        {
          "output_type": "stream",
          "name": "stdout",
          "text": [
            "Finish Validation\n",
            "Epoch:98/100\n",
            "Total Loss: 0.364 || Val Loss: 0.564 \n",
            "Start Train\n"
          ]
        },
        {
          "output_type": "stream",
          "name": "stderr",
          "text": [
            "Epoch 99/100: 100%|██████████| 605/605 [01:18<00:00,  7.67it/s, f_score=0.638, lr=1.75e-5, total_loss=0.372]\n"
          ]
        },
        {
          "output_type": "stream",
          "name": "stdout",
          "text": [
            "Finish Train\n",
            "Start Validation\n"
          ]
        },
        {
          "output_type": "stream",
          "name": "stderr",
          "text": [
            "Epoch 99/100: 100%|██████████| 67/67 [00:05<00:00, 11.72it/s, f_score=0.621, lr=1.75e-5, val_loss=0.542]\n"
          ]
        },
        {
          "output_type": "stream",
          "name": "stdout",
          "text": [
            "Finish Validation\n",
            "Epoch:99/100\n",
            "Total Loss: 0.372 || Val Loss: 0.542 \n",
            "Start Train\n"
          ]
        },
        {
          "output_type": "stream",
          "name": "stderr",
          "text": [
            "Epoch 100/100: 100%|██████████| 605/605 [01:18<00:00,  7.69it/s, f_score=0.636, lr=1.75e-5, total_loss=0.373]\n"
          ]
        },
        {
          "output_type": "stream",
          "name": "stdout",
          "text": [
            "Finish Train\n",
            "Start Validation\n"
          ]
        },
        {
          "output_type": "stream",
          "name": "stderr",
          "text": [
            "Epoch 100/100: 100%|██████████| 67/67 [00:05<00:00, 12.01it/s, f_score=0.619, lr=1.75e-5, val_loss=0.545]\n"
          ]
        },
        {
          "output_type": "stream",
          "name": "stdout",
          "text": [
            "Finish Validation\n",
            "Get miou.\n"
          ]
        },
        {
          "output_type": "stream",
          "name": "stderr",
          "text": [
            "100%|██████████| 270/270 [00:13<00:00, 20.18it/s]\n"
          ]
        },
        {
          "output_type": "stream",
          "name": "stdout",
          "text": [
            "Calculate miou.\n",
            "Num classes 27\n",
            "===> mIoU: 28.96; mPA: 36.72; Accuracy: 81.37\n",
            "Get miou done.\n",
            "Epoch:100/100\n",
            "Total Loss: 0.373 || Val Loss: 0.545 \n"
          ]
        }
      ],
      "source": [
        "#deeplabv3+ architecture with the backbone mobilenetv2\n",
        "#based on: https://github.com/bubbliiiing/deeplabv3-plus-pytorch\n",
        "import os\n",
        "import datetime\n",
        "\n",
        "import numpy as np\n",
        "import torch\n",
        "import torch.backends.cudnn as cudnn\n",
        "import torch.distributed as dist\n",
        "import torch.optim as optim\n",
        "from torch.utils.data import DataLoader\n",
        "\n",
        "from nets.deeplabv3_plus import DeepLab\n",
        "from nets.deeplabv3_training import (get_lr_scheduler, set_optimizer_lr,\n",
        "                                     weights_init)\n",
        "from utils.callbacks import LossHistory, EvalCallback\n",
        "from utils.dataloader import DeeplabDataset, deeplab_dataset_collate\n",
        "from utils.utils import download_weights, show_config\n",
        "from utils.utils_fit import fit_one_epoch\n",
        "\n",
        "\n",
        "if __name__ == \"__main__\":\n",
        "    # Use GPU\n",
        "    Cuda            = True\n",
        "    # Whether to use single-machine multi-card distributed operation\n",
        "    distributed     = False\n",
        "    # Whether to use sync_bn\n",
        "    sync_bn         = False\n",
        "    # Whether to use mixed precision training, can save GPU resource\n",
        "    fp16            = True\n",
        "    # As defined in the problem\n",
        "    num_classes     = 27\n",
        "    # backbone network\n",
        "    backbone        = \"mobilenet\"\n",
        "    # Doesn't matter here\n",
        "    pretrained      = False\n",
        "    # The backbone model dictionary path\n",
        "    model_path      = \"/content/drive/MyDrive/Hurricane_Harvey/model_data/deeplab_mobilenetv2.pth\"\n",
        "    # Downsample_factor\n",
        "    downsample_factor   = 16\n",
        "    # Image size\n",
        "    input_shape         = [512, 512]\n",
        "    \n",
        "    # Training epochs\n",
        "    Init_Epoch          = 0\n",
        "    Freeze_Epoch        = 50\n",
        "    Freeze_batch_size   = 8\n",
        "    \n",
        "    UnFreeze_Epoch      = 100\n",
        "    Unfreeze_batch_size = 4\n",
        "    \n",
        "    Freeze_Train        = True\n",
        "\n",
        "    #Learning rate\n",
        "    Init_lr             = 7e-3\n",
        "    Min_lr              = Init_lr * 0.01\n",
        "\n",
        "    #Other hyperparameters\n",
        "    optimizer_type      = \"sgd\"\n",
        "    momentum            = 0.9\n",
        "    weight_decay        = 1e-4\n",
        "    \n",
        "    #Learning rate decay method\n",
        "    lr_decay_type       = 'cos'\n",
        "\n",
        "    #Save the model state dictionary for each 5 epochs\n",
        "    save_period         = 5\n",
        "\n",
        "    #The path to save the model state dictionary\n",
        "    save_dir            = 'logs'\n",
        "\n",
        "    #Whether to evaluate and how often\n",
        "    eval_flag           = True\n",
        "    eval_period         = 5\n",
        "\n",
        "    #------------------------------------------------------------------#\n",
        "    #The dataset path\n",
        "    #------------------------------------------------------------------#\n",
        "    VOCdevkit_path  = '/content/drive/MyDrive/Hurricane_Harvey/VOCdevkit/'\n",
        "\n",
        "    #Whether to use dice loss\n",
        "    dice_loss       = False\n",
        "    #Whether to use focal loss\n",
        "    focal_loss      = False\n",
        "\n",
        "    #Whether to weight different classes\n",
        "    cls_weights     = np.ones([num_classes], np.float32)\n",
        "    #multi-workers\n",
        "    num_workers         = 4\n",
        "\n",
        "    #GPU\n",
        "    ngpus_per_node  = torch.cuda.device_count()\n",
        "    if distributed:\n",
        "        dist.init_process_group(backend=\"nccl\")\n",
        "        local_rank  = int(os.environ[\"LOCAL_RANK\"])\n",
        "        rank        = int(os.environ[\"RANK\"])\n",
        "        device      = torch.device(\"cuda\", local_rank)\n",
        "        if local_rank == 0:\n",
        "            print(f\"[{os.getpid()}] (rank = {rank}, local_rank = {local_rank}) training...\")\n",
        "            print(\"Gpu Device Count : \", ngpus_per_node)\n",
        "    else:\n",
        "        device          = torch.device('cuda' if torch.cuda.is_available() else 'cpu')\n",
        "        local_rank      = 0\n",
        "\n",
        "    #Download pretrained weights\n",
        "    if pretrained:\n",
        "        if distributed:\n",
        "            if local_rank == 0:\n",
        "                download_weights(backbone)  \n",
        "            dist.barrier()\n",
        "        else:\n",
        "            download_weights(backbone)\n",
        "\n",
        "    model   = DeepLab(num_classes=num_classes, backbone=backbone, downsample_factor=downsample_factor, pretrained=pretrained)\n",
        "    if not pretrained:\n",
        "        weights_init(model)\n",
        "    if model_path != '':\n",
        "        if local_rank == 0:\n",
        "            print('Load weights {}.'.format(model_path))\n",
        "        \n",
        "        #Load the pretrained dictionary\n",
        "        model_dict      = model.state_dict()\n",
        "        pretrained_dict = torch.load(model_path, map_location = device)\n",
        "        load_key, no_load_key, temp_dict = [], [], {}\n",
        "        for k, v in pretrained_dict.items():\n",
        "            if k in model_dict.keys() and np.shape(model_dict[k]) == np.shape(v):\n",
        "                temp_dict[k] = v\n",
        "                load_key.append(k)\n",
        "            else:\n",
        "                no_load_key.append(k)\n",
        "        model_dict.update(temp_dict)\n",
        "        model.load_state_dict(model_dict)\n",
        "        #print unmatched keys\n",
        "        if local_rank == 0:\n",
        "            print(\"\\nSuccessful Load Key:\", str(load_key)[:500], \"……\\nSuccessful Load Key Num:\", len(load_key))\n",
        "            print(\"\\nFail To Load Key:\", str(no_load_key)[:500], \"……\\nFail To Load Key num:\", len(no_load_key))\n",
        "            print(\"\\n\\033[1;33;44mHint: It is normal that the head part is not loaded, and it is an error that the backbone part is not loaded.\\033[0m\")\n",
        "\n",
        "    #Record loss\n",
        "\n",
        "    if local_rank == 0:\n",
        "        time_str        = datetime.datetime.strftime(datetime.datetime.now(),'%Y_%m_%d_%H_%M_%S')\n",
        "        log_dir         = os.path.join(save_dir, \"loss_\" + str(time_str))\n",
        "        loss_history    = LossHistory(log_dir, model, input_shape=input_shape)\n",
        "    else:\n",
        "        loss_history    = None\n",
        "\n",
        "    if fp16:\n",
        "        from torch.cuda.amp import GradScaler as GradScaler\n",
        "        scaler = GradScaler()\n",
        "    else:\n",
        "        scaler = None\n",
        "\n",
        "    model_train     = model.train()\n",
        "\n",
        "    if sync_bn and ngpus_per_node > 1 and distributed:\n",
        "        model_train = torch.nn.SyncBatchNorm.convert_sync_batchnorm(model_train)\n",
        "    elif sync_bn:\n",
        "        print(\"Sync_bn is not support in one gpu or not distributed.\")\n",
        "\n",
        "    if Cuda:\n",
        "        if distributed:\n",
        "            model_train = model_train.cuda(local_rank)\n",
        "            model_train = torch.nn.parallel.DistributedDataParallel(model_train, device_ids=[local_rank], find_unused_parameters=True)\n",
        "        else:\n",
        "            model_train = torch.nn.DataParallel(model)\n",
        "            cudnn.benchmark = True\n",
        "            model_train = model_train.cuda()\n",
        "    \n",
        "    #Read in the txt file which contain the name of the training and validation images\n",
        "    with open(os.path.join(VOCdevkit_path, \"VOC2007/ImageSets/Segmentation/train.txt\"),\"r\") as f:\n",
        "        train_lines = f.readlines()\n",
        "    with open(os.path.join(VOCdevkit_path, \"VOC2007/ImageSets/Segmentation/val.txt\"),\"r\") as f:\n",
        "        val_lines = f.readlines()\n",
        "    num_train   = len(train_lines)\n",
        "    num_val     = len(val_lines)\n",
        "\n",
        "    if local_rank == 0:\n",
        "        show_config(\n",
        "            num_classes = num_classes, backbone = backbone, model_path = model_path, input_shape = input_shape, \\\n",
        "            Init_Epoch = Init_Epoch, Freeze_Epoch = Freeze_Epoch, UnFreeze_Epoch = UnFreeze_Epoch, Freeze_batch_size = Freeze_batch_size, Unfreeze_batch_size = Unfreeze_batch_size, Freeze_Train = Freeze_Train, \\\n",
        "            Init_lr = Init_lr, Min_lr = Min_lr, optimizer_type = optimizer_type, momentum = momentum, lr_decay_type = lr_decay_type, \\\n",
        "            save_period = save_period, save_dir = save_dir, num_workers = num_workers, num_train = num_train, num_val = num_val\n",
        "        )\n",
        "        wanted_step = 1.5e4 if optimizer_type == \"sgd\" else 0.5e4\n",
        "        total_step  = num_train // Unfreeze_batch_size * UnFreeze_Epoch\n",
        "        if total_step <= wanted_step:\n",
        "            if num_train // Unfreeze_batch_size == 0:\n",
        "                raise ValueError('The dataset is too small for training, please expand the dataset.')\n",
        "            wanted_epoch = wanted_step // (num_train // Unfreeze_batch_size) + 1\n",
        "            print(\"\\n\\033[1;33;44m[Warning] When using the %s optimizer, it is recommended to set the total training step size to above %d. \\033[0m\"%(optimizer_type, wanted_step))\n",
        "            print(\"\\033[1;33;44m[Warning] The total amount of training data for this run is %d, the Unfreeze_batch_size is %d, a total of %d Epochs are trained, and the total training step size is calculated as %d. \\033[0m\"%(num_train, Unfreeze_batch_size, UnFreeze_Epoch, total_step))\n",
        "            print(\"\\033[1;33;44m[Warning] Since the total training step size is %d, which is less than the recommended total step size %d, it is recommended to set the total generation to %d. \\033[0m\"%(total_step, wanted_step, wanted_epoch))\n",
        "        \n",
        "    if True:\n",
        "        UnFreeze_flag = False\n",
        "        #Freeze certain part of training\n",
        "        if Freeze_Train:\n",
        "            for param in model.backbone.parameters():\n",
        "                param.requires_grad = False\n",
        "\n",
        "        #If you do not freeze training, directly set batch_size to Unfreeze_batch_size.\n",
        "        batch_size = Freeze_batch_size if Freeze_Train else Unfreeze_batch_size\n",
        "\n",
        "        #Based on the current batch_size, adaptively adjust the learning rate\n",
        "        #Define the minimum and maximum learning rate\n",
        "        nbs             = 16\n",
        "        lr_limit_max    = 5e-4 if optimizer_type == 'adam' else 1e-1\n",
        "        lr_limit_min    = 3e-4 if optimizer_type == 'adam' else 5e-4\n",
        "        if backbone == \"xception\":\n",
        "            lr_limit_max    = 1e-4 if optimizer_type == 'adam' else 1e-1\n",
        "            lr_limit_min    = 1e-4 if optimizer_type == 'adam' else 5e-4\n",
        "        Init_lr_fit     = min(max(batch_size / nbs * Init_lr, lr_limit_min), lr_limit_max)\n",
        "        Min_lr_fit      = min(max(batch_size / nbs * Min_lr, lr_limit_min * 1e-2), lr_limit_max * 1e-2)\n",
        "\n",
        "        #Choosing optimizer type\n",
        "        optimizer = {\n",
        "            'adam'  : optim.Adam(model.parameters(), Init_lr_fit, betas = (momentum, 0.999), weight_decay = weight_decay),\n",
        "            'sgd'   : optim.SGD(model.parameters(), Init_lr_fit, momentum = momentum, nesterov=True, weight_decay = weight_decay)\n",
        "        }[optimizer_type]\n",
        "\n",
        "        #Get the formula for the learning rate drop\n",
        "        lr_scheduler_func = get_lr_scheduler(lr_decay_type, Init_lr_fit, Min_lr_fit, UnFreeze_Epoch)\n",
        "        \n",
        "        #Calculate the training steps\n",
        "        epoch_step      = num_train // batch_size\n",
        "        epoch_step_val  = num_val // batch_size\n",
        "        \n",
        "        if epoch_step == 0 or epoch_step_val == 0:\n",
        "            raise ValueError(\"The dataset is too small to continue training, please expand the dataset.\")\n",
        "\n",
        "        train_dataset   = DeeplabDataset(train_lines, input_shape, num_classes, True, VOCdevkit_path)\n",
        "        val_dataset     = DeeplabDataset(val_lines, input_shape, num_classes, False, VOCdevkit_path)\n",
        "\n",
        "        if distributed:\n",
        "            train_sampler   = torch.utils.data.distributed.DistributedSampler(train_dataset, shuffle=True,)\n",
        "            val_sampler     = torch.utils.data.distributed.DistributedSampler(val_dataset, shuffle=False,)\n",
        "            batch_size      = batch_size // ngpus_per_node\n",
        "            shuffle         = False\n",
        "        else:\n",
        "            train_sampler   = None\n",
        "            val_sampler     = None\n",
        "            shuffle         = True\n",
        "\n",
        "        gen             = DataLoader(train_dataset, shuffle = shuffle, batch_size = batch_size, num_workers = num_workers, pin_memory=True,\n",
        "                                    drop_last = True, collate_fn = deeplab_dataset_collate, sampler=train_sampler)\n",
        "        gen_val         = DataLoader(val_dataset  , shuffle = shuffle, batch_size = batch_size, num_workers = num_workers, pin_memory=True, \n",
        "                                    drop_last = True, collate_fn = deeplab_dataset_collate, sampler=val_sampler)\n",
        "\n",
        "        #Recoding the evaluation results\n",
        "        if local_rank == 0:\n",
        "            eval_callback   = EvalCallback(model, input_shape, num_classes, val_lines, VOCdevkit_path, log_dir, Cuda, \\\n",
        "                                            eval_flag=eval_flag, period=eval_period)\n",
        "        else:\n",
        "            eval_callback   = None\n",
        "        \n",
        "        #Start training\n",
        "        for epoch in range(Init_Epoch, UnFreeze_Epoch):\n",
        "            #If the model has a frozen learning part, unfreeze and set parameters\n",
        "            if epoch >= Freeze_Epoch and not UnFreeze_flag and Freeze_Train:\n",
        "                batch_size = Unfreeze_batch_size\n",
        "\n",
        "                ##Based on the current batch_size, adaptively adjust the learning rate\n",
        "                #Define the minimum and maximum learning rate\n",
        "                nbs             = 16\n",
        "                lr_limit_max    = 5e-4 if optimizer_type == 'adam' else 1e-1\n",
        "                lr_limit_min    = 3e-4 if optimizer_type == 'adam' else 5e-4\n",
        "                if backbone == \"xception\":\n",
        "                    lr_limit_max    = 1e-4 if optimizer_type == 'adam' else 1e-1\n",
        "                    lr_limit_min    = 1e-4 if optimizer_type == 'adam' else 5e-4\n",
        "                Init_lr_fit     = min(max(batch_size / nbs * Init_lr, lr_limit_min), lr_limit_max)\n",
        "                Min_lr_fit      = min(max(batch_size / nbs * Min_lr, lr_limit_min * 1e-2), lr_limit_max * 1e-2)\n",
        "                ##Based on the current batch_size, adaptively adjust the learning rate\n",
        "                #Define the minimum and maximum learning rate\n",
        "                lr_scheduler_func = get_lr_scheduler(lr_decay_type, Init_lr_fit, Min_lr_fit, UnFreeze_Epoch)\n",
        "                    \n",
        "                for param in model.backbone.parameters():\n",
        "                    param.requires_grad = True\n",
        "                            \n",
        "                epoch_step      = num_train // batch_size\n",
        "                epoch_step_val  = num_val // batch_size\n",
        "\n",
        "                if epoch_step == 0 or epoch_step_val == 0:\n",
        "                    raise ValueError(\"The dataset is too small to continue training, please expand the dataset.\")\n",
        "\n",
        "                if distributed:\n",
        "                    batch_size = batch_size // ngpus_per_node\n",
        "\n",
        "                gen             = DataLoader(train_dataset, shuffle = shuffle, batch_size = batch_size, num_workers = num_workers, pin_memory=True,\n",
        "                                            drop_last = True, collate_fn = deeplab_dataset_collate, sampler=train_sampler)\n",
        "                gen_val         = DataLoader(val_dataset  , shuffle = shuffle, batch_size = batch_size, num_workers = num_workers, pin_memory=True, \n",
        "                                            drop_last = True, collate_fn = deeplab_dataset_collate, sampler=val_sampler)\n",
        "\n",
        "                UnFreeze_flag = True\n",
        "\n",
        "            if distributed:\n",
        "                train_sampler.set_epoch(epoch)\n",
        "\n",
        "            set_optimizer_lr(optimizer, lr_scheduler_func, epoch)\n",
        "\n",
        "            fit_one_epoch(model_train, model, loss_history, eval_callback, optimizer, epoch, \n",
        "                    epoch_step, epoch_step_val, gen, gen_val, UnFreeze_Epoch, Cuda, dice_loss, focal_loss, cls_weights, num_classes, fp16, scaler, save_period, save_dir, local_rank)\n",
        "\n",
        "            if distributed:\n",
        "                dist.barrier()\n",
        "\n",
        "        if local_rank == 0:\n",
        "            loss_history.writer.close()"
      ]
    },
    {
      "cell_type": "code",
      "source": [],
      "metadata": {
        "id": "ggCmTXH6tHxg"
      },
      "execution_count": null,
      "outputs": []
    }
  ]
}